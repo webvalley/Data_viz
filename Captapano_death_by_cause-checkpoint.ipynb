{
 "cells": [
  {
   "cell_type": "code",
   "execution_count": null,
   "metadata": {
    "colab": {},
    "colab_type": "code",
    "id": "o4baooTI52FG"
   },
   "outputs": [],
   "source": [
    "from bokeh.io import show, output_notebook\n",
    "from bokeh.models import ColumnDataSource, FactorRange\n",
    "from bokeh.plotting import figure\n",
    "from bokeh.transform import factor_cmap"
   ]
  },
  {
   "cell_type": "code",
   "execution_count": null,
   "metadata": {
    "colab": {},
    "colab_type": "code",
    "id": "kRCpVVzn52FL"
   },
   "outputs": [],
   "source": [
    "output_notebook()"
   ]
  },
  {
   "cell_type": "markdown",
   "metadata": {
    "colab_type": "text",
    "id": "KgDl4qi052FP"
   },
   "source": [
    "Death By Causes Female"
   ]
  },
  {
   "cell_type": "code",
   "execution_count": null,
   "metadata": {
    "colab": {},
    "colab_type": "code",
    "id": "6Ke6rxSC52FQ"
   },
   "outputs": [],
   "source": [
    "diseases = ['Ischaemic heart disease', 'Stroke', 'Other CVD', 'Stomach Cancer', 'Colo-rectal cancer', 'Lung cancer', 'Breast cancer', 'Other cancer', 'Respiratory disease', 'Injuries and poisoning', 'Other causes']\n",
    "ages = ['General','under 65','under 75']\n",
    "\n",
    "\n",
    "data = {'diseases' : diseases,\n",
    "        'General'   : [0.2, 0.13, 0.15, 0.01, 0.02, 0.03, 0.03, 0.11, 0.06, 0.04, 0.22],\n",
    "        'under 65'   : [0.1, 0.07, 0.08, 0.02, 0.03, 0.05, 0.08, 0.19, 0.04, 0.1, 0.24],\n",
    "        'under 75'   : [0.15, 0.1, 0.09, 0.02, 0.04, 0.05, 0.06, 0.18, 0.04, 0.07, 0.2]}\n",
    "\n"
   ]
  },
  {
   "cell_type": "code",
   "execution_count": null,
   "metadata": {
    "colab": {},
    "colab_type": "code",
    "id": "KoKhyT9U52FU"
   },
   "outputs": [],
   "source": [
    "palette = [\"#c9d9d3\", \"#718dbf\", \"#e84d60\"]"
   ]
  },
  {
   "cell_type": "code",
   "execution_count": null,
   "metadata": {
    "colab": {},
    "colab_type": "code",
    "id": "cPJHHxHB52FX"
   },
   "outputs": [],
   "source": [
    "x = [ (disease, age) for disease in diseases for age in ages ]\n",
    "counts = sum(zip(data['General'], data['under 65'], data['under 75']), ())"
   ]
  },
  {
   "cell_type": "code",
   "execution_count": null,
   "metadata": {
    "colab": {},
    "colab_type": "code",
    "id": "um_pEG_152Fb"
   },
   "outputs": [],
   "source": [
    "source = ColumnDataSource(data=dict(x=x, counts=counts))"
   ]
  },
  {
   "cell_type": "code",
   "execution_count": null,
   "metadata": {
    "colab": {},
    "colab_type": "code",
    "id": "Gu1YC-TV52Fe"
   },
   "outputs": [],
   "source": [
    "p = figure(x_range=FactorRange(*x), plot_width=2000, plot_height=700, title=\"Deaths by cause, Females\",\n",
    "           toolbar_location=None, tools=\"\")\n",
    "\n",
    "p.vbar(x='x', top='counts', width=0.9, source=source, line_color=\"white\",\n",
    "       fill_color=factor_cmap('x', palette=palette, factors=ages, start=1, end=2))"
   ]
  },
  {
   "cell_type": "code",
   "execution_count": null,
   "metadata": {
    "colab": {},
    "colab_type": "code",
    "id": "Jyo-50X452Fh"
   },
   "outputs": [],
   "source": [
    "p.y_range.start = 0\n",
    "p.x_range.range_padding = 0.1\n",
    "p.xaxis.major_label_orientation = 1\n",
    "p.xgrid.grid_line_color = None\n",
    "\n",
    "show(p)"
   ]
  },
  {
   "cell_type": "markdown",
   "metadata": {
    "colab_type": "text",
    "id": "gynW3ElV52Fk"
   },
   "source": [
    "Death By Causes Males"
   ]
  },
  {
   "cell_type": "markdown",
   "metadata": {
    "colab_type": "text",
    "id": "yUdQejeX52Fl"
   },
   "source": [
    "output_file(\"death_by_cause_m_colormapped.html\")"
   ]
  },
  {
   "cell_type": "code",
   "execution_count": null,
   "metadata": {
    "colab": {},
    "colab_type": "code",
    "id": "ZRDOJYLy52Fn"
   },
   "outputs": [],
   "source": [
    "diseases = ['Ischaemic heart disease', 'Stroke', 'Other CVD', 'Stomach Cancer', 'Colo-rectal cancer', 'Lung cancer', 'Other cancer', 'Respiratory disease', 'Injuries and poisoning', 'Other causes']\n",
    "ages = ['General','under 65','under 75']\n",
    "\n",
    "\n",
    "data = {'diseases' : diseases,\n",
    "        'General'   : [0.19, 0.09, 0.12, 0.02, 0.03, 0.06, 0.14, 0.07, 0.09, 0.19],\n",
    "        'under 65'   : [0.18, 0.07, 0.09, 0.02, 0.03, 0.08, 0.15, 0.05, 0.14, 0.19],\n",
    "        'under 75'   : [0.16, 0.06, 0.09, 0.02, 0.02, 0.07, 0.12, 0.05, 0.19, 0.22]}"
   ]
  },
  {
   "cell_type": "code",
   "execution_count": null,
   "metadata": {
    "colab": {},
    "colab_type": "code",
    "id": "7UabaMkK52Fq"
   },
   "outputs": [],
   "source": [
    "palette = [\"#c9d9d3\", \"#718dbf\", \"#e84d60\"]"
   ]
  },
  {
   "cell_type": "code",
   "execution_count": null,
   "metadata": {
    "colab": {},
    "colab_type": "code",
    "id": "rBquAbw_52Ft"
   },
   "outputs": [],
   "source": [
    "x = [ (disease, age) for disease in diseases for age in ages ]\n",
    "counts = sum(zip(data['General'], data['under 65'], data['under 75']), ())"
   ]
  },
  {
   "cell_type": "code",
   "execution_count": null,
   "metadata": {
    "colab": {},
    "colab_type": "code",
    "id": "yb0WRUHs52Fw"
   },
   "outputs": [],
   "source": [
    "source = ColumnDataSource(data=dict(x=x, counts=counts))"
   ]
  },
  {
   "cell_type": "code",
   "execution_count": null,
   "metadata": {
    "colab": {},
    "colab_type": "code",
    "id": "RqyFgiJe52Fy"
   },
   "outputs": [],
   "source": [
    "p = figure(x_range=FactorRange(*x), plot_width=2000, plot_height=700, title=\"Deaths by cause, Males\",\n",
    "           toolbar_location=None, tools=\"\")\n",
    "\n",
    "p.vbar(x='x', top='counts', width=0.9, source=source, line_color=\"white\",\n",
    "       fill_color=factor_cmap('x', palette=palette, factors=ages, start=1, end=2))"
   ]
  },
  {
   "cell_type": "code",
   "execution_count": null,
   "metadata": {
    "colab": {},
    "colab_type": "code",
    "id": "RI9viQiK52F0"
   },
   "outputs": [],
   "source": [
    "p.y_range.start = 0\n",
    "p.x_range.range_padding = 0.1\n",
    "p.xaxis.major_label_orientation = 1\n",
    "p.xgrid.grid_line_color = None\n",
    "\n",
    "show(p)"
   ]
  },
  {
   "cell_type": "markdown",
   "metadata": {
    "colab_type": "text",
    "id": "NqAAKVcQ52F2"
   },
   "source": [
    "Death By Causes Female - Stack"
   ]
  },
  {
   "cell_type": "code",
   "execution_count": null,
   "metadata": {
    "colab": {},
    "colab_type": "code",
    "id": "TnUwfqmV52F3"
   },
   "outputs": [],
   "source": [
    "from bokeh.core.properties import value"
   ]
  },
  {
   "cell_type": "markdown",
   "metadata": {
    "colab_type": "text",
    "id": "kGsObqv052F8"
   },
   "source": [
    "output_file(\"death_by_cause_f_bar_stacked_.html\")"
   ]
  },
  {
   "cell_type": "code",
   "execution_count": null,
   "metadata": {
    "colab": {},
    "colab_type": "code",
    "id": "rf86M05b52F9"
   },
   "outputs": [],
   "source": [
    "diseases = ['Ischaemic heart disease', 'Stroke', 'Other CVD', 'Stomach Cancer', 'Colo-rectal cancer', 'Lung cancer', 'Breast cancer', 'Other cancer', 'Respiratory disease', 'Injuries and poisoning', 'Other causes']\n",
    "ages = ['General','under 65','under 75']\n",
    "colors = ['#c9d9d3', '#718dbf', '#e84d60']\n",
    "\n",
    "data = {'diseases' : diseases,\n",
    "        'General'   : [0.2, 0.13, 0.15, 0.01, 0.02, 0.03, 0.03, 0.11, 0.06, 0.04, 0.22],\n",
    "        'under 65'   : [0.1, 0.07, 0.08, 0.02, 0.03, 0.05, 0.08, 0.19, 0.04, 0.1, 0.24],\n",
    "        'under 75'   : [0.15, 0.1, 0.09, 0.02, 0.04, 0.05, 0.06, 0.18, 0.04, 0.07, 0.2]}\n",
    "\n"
   ]
  },
  {
   "cell_type": "code",
   "execution_count": null,
   "metadata": {
    "colab": {},
    "colab_type": "code",
    "id": "kVuAPK8652GA"
   },
   "outputs": [],
   "source": [
    "p = figure(x_range=diseases, plot_width=2000, plot_height=750, title=\"Deaths by cause, Female\",\n",
    "           toolbar_location=None, tools=\"hover\", tooltips=\"$name @diseases: @$name\")"
   ]
  },
  {
   "cell_type": "code",
   "execution_count": null,
   "metadata": {
    "colab": {},
    "colab_type": "code",
    "id": "Kus-Uudl52GC"
   },
   "outputs": [],
   "source": [
    "p.vbar_stack(ages, x='diseases', width=0.9, color=colors, source=data,\n",
    "             legend=[value(x) for x in ages])"
   ]
  },
  {
   "cell_type": "code",
   "execution_count": null,
   "metadata": {
    "colab": {},
    "colab_type": "code",
    "id": "KlZTOpZf52GF"
   },
   "outputs": [],
   "source": [
    "p.y_range.start = 0\n",
    "p.x_range.range_padding = 0.1\n",
    "p.xgrid.grid_line_color = None\n",
    "p.axis.minor_tick_line_color = None\n",
    "p.outline_line_color = None\n",
    "p.legend.location = \"top_left\"\n",
    "p.legend.orientation = \"horizontal\""
   ]
  },
  {
   "cell_type": "code",
   "execution_count": null,
   "metadata": {
    "colab": {},
    "colab_type": "code",
    "id": "NRX-Mdrb52GI"
   },
   "outputs": [],
   "source": [
    "show(p)"
   ]
  },
  {
   "cell_type": "markdown",
   "metadata": {
    "colab_type": "text",
    "id": "SwrfDA2G52GL"
   },
   "source": [
    "Death By Causes Male - Stack"
   ]
  },
  {
   "cell_type": "markdown",
   "metadata": {
    "colab_type": "text",
    "id": "yc5puMRY52GM"
   },
   "source": [
    "output_file(\"death_by_cause_m_bar_stacked_.html\")"
   ]
  },
  {
   "cell_type": "code",
   "execution_count": null,
   "metadata": {
    "colab": {},
    "colab_type": "code",
    "id": "lX2WTlHv52GM"
   },
   "outputs": [],
   "source": [
    "diseases = ['Ischaemic heart disease', 'Stroke', 'Other CVD', 'Stomach Cancer', 'Colo-rectal cancer', 'Lung cancer', 'Other cancer', 'Respiratory disease', 'Injuries and poisoning', 'Other causes']\n",
    "ages = ['General','under 65','under 75']\n",
    "colors = ['#c9d9d3', '#718dbf', '#e84d60']\n",
    "\n",
    "data = {'diseases' : diseases,\n",
    "        'General'   : [0.19, 0.09, 0.12, 0.02, 0.03, 0.06, 0.14, 0.07, 0.09, 0.19],\n",
    "        'under 65'   : [0.18, 0.07, 0.09, 0.02, 0.03, 0.08, 0.15, 0.05, 0.14, 0.19],\n",
    "        'under 75'   : [0.16, 0.06, 0.09, 0.02, 0.02, 0.07, 0.12, 0.05, 0.19, 0.22]}\n"
   ]
  },
  {
   "cell_type": "code",
   "execution_count": null,
   "metadata": {
    "colab": {},
    "colab_type": "code",
    "id": "rDTqmRZA52GP"
   },
   "outputs": [],
   "source": [
    "p.vbar_stack(ages, x='diseases', width=0.9, color=colors, source=data,\n",
    "             legend=[value(x) for x in ages])"
   ]
  },
  {
   "cell_type": "code",
   "execution_count": null,
   "metadata": {
    "colab": {},
    "colab_type": "code",
    "id": "QxCPmhh-52GR"
   },
   "outputs": [],
   "source": [
    "p.y_range.start = 0\n",
    "p.x_range.range_padding = 0.1\n",
    "p.xgrid.grid_line_color = None\n",
    "p.axis.minor_tick_line_color = None\n",
    "p.outline_line_color = None\n",
    "p.legend.location = \"top_left\"\n",
    "p.legend.orientation = \"horizontal\""
   ]
  },
  {
   "cell_type": "code",
   "execution_count": null,
   "metadata": {
    "colab": {},
    "colab_type": "code",
    "id": "Vvzu0ooS52GT"
   },
   "outputs": [],
   "source": [
    "show(p)"
   ]
  }
 ],
 "metadata": {
  "colab": {
   "name": "Captapano death by cause.ipynb",
   "provenance": [],
   "version": "0.3.2"
  },
  "kernelspec": {
   "display_name": "Python 3",
   "language": "python",
   "name": "python3"
  },
  "language_info": {
   "codemirror_mode": {
    "name": "ipython",
    "version": 3
   },
   "file_extension": ".py",
   "mimetype": "text/x-python",
   "name": "python",
   "nbconvert_exporter": "python",
   "pygments_lexer": "ipython3",
   "version": "3.7.3"
  }
 },
 "nbformat": 4,
 "nbformat_minor": 1
}
