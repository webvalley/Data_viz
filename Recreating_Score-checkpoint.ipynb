{
 "cells": [
  {
   "cell_type": "code",
   "execution_count": null,
   "metadata": {
    "colab": {
     "base_uri": "https://localhost:8080/",
     "height": 136
    },
    "colab_type": "code",
    "id": "DOJ8_iWBQzYJ",
    "outputId": "e375f4e3-ac25-4671-ee05-bd73cad08c6e"
   },
   "outputs": [],
   "source": [
    "!pip install umap-learn"
   ]
  },
  {
   "cell_type": "code",
   "execution_count": null,
   "metadata": {
    "colab": {},
    "colab_type": "code",
    "id": "bttV7281Q1V2"
   },
   "outputs": [],
   "source": [
    "from __future__ import print_function\n",
    "import time\n",
    "import numpy as np\n",
    "import pandas as pd\n",
    "from sklearn.datasets import fetch_mldata\n",
    "from sklearn.decomposition import PCA\n",
    "from sklearn.manifold import TSNE\n",
    "%matplotlib inline\n",
    "import matplotlib.pyplot as plt\n",
    "from mpl_toolkits.mplot3d import Axes3D\n",
    "import seaborn as sns\n",
    "\n",
    "import umap\n",
    "import matplotlib\n"
   ]
  },
  {
   "cell_type": "code",
   "execution_count": null,
   "metadata": {
    "colab": {
     "base_uri": "https://localhost:8080/",
     "height": 34
    },
    "colab_type": "code",
    "id": "D4fcDA-vQ47G",
    "outputId": "f6816b97-83ae-4949-cb5d-d6e1be24055f"
   },
   "outputs": [],
   "source": [
    "from google.colab import drive\n",
    "drive.mount('/data', force_remount=True)"
   ]
  },
  {
   "cell_type": "code",
   "execution_count": null,
   "metadata": {
    "colab": {},
    "colab_type": "code",
    "id": "DmWVE_jpRDRJ"
   },
   "outputs": [],
   "source": [
    "p = \"/data/My Drive/clean_exports/wSCORE/Milano_Cleaned_wSCORE.xlsx\"\n",
    "df =  pd.read_excel(p)"
   ]
  },
  {
   "cell_type": "markdown",
   "metadata": {
    "colab_type": "text",
    "id": "FNQjDzNzhyu2"
   },
   "source": [
    "###Base staf"
   ]
  },
  {
   "cell_type": "code",
   "execution_count": null,
   "metadata": {
    "colab": {},
    "colab_type": "code",
    "id": "27eauf_bScbA"
   },
   "outputs": [],
   "source": [
    "reducer = umap.UMAP()"
   ]
  },
  {
   "cell_type": "code",
   "execution_count": null,
   "metadata": {
    "colab": {},
    "colab_type": "code",
    "id": "1mh6SQBKiF2e"
   },
   "outputs": [],
   "source": [
    "label = df['SCORE']\n",
    "label = list(label)"
   ]
  },
  {
   "cell_type": "code",
   "execution_count": null,
   "metadata": {
    "colab": {
     "base_uri": "https://localhost:8080/",
     "height": 54
    },
    "colab_type": "code",
    "id": "tpH8G24Cjb6N",
    "outputId": "dafac98b-c9d9-4778-e487-c5d21de0e90c"
   },
   "outputs": [],
   "source": [
    "l = []\n",
    "for x in label:\n",
    "  if x < 1:\n",
    "    l.append(0)\n",
    "  elif x < 2 and x >1:\n",
    "    l.append(1)\n",
    "  elif x < 5 and x >2:\n",
    "    l.append(2)\n",
    "  else:\n",
    "    l.append(3)\n",
    "\n",
    "print(l)"
   ]
  },
  {
   "cell_type": "code",
   "execution_count": null,
   "metadata": {
    "colab": {},
    "colab_type": "code",
    "id": "aiXok26ajdrW"
   },
   "outputs": [],
   "source": [
    "colors = ['#00ff00','#00ffff','#ff00ff','#000000']"
   ]
  },
  {
   "cell_type": "markdown",
   "metadata": {
    "colab_type": "text",
    "id": "zm6uu-Y9utgk"
   },
   "source": [
    "### FirstTry\n"
   ]
  },
  {
   "cell_type": "code",
   "execution_count": null,
   "metadata": {
    "colab": {},
    "colab_type": "code",
    "id": "iFjdLPPABbyM"
   },
   "outputs": [],
   "source": [
    "lt = ['int16', 'int32' , 'int64', 'float16', 'float32', 'float64']\n",
    "\n",
    "dfr = df.select_dtypes(include = lt)\n",
    "\n",
    "lc = ['age','gender','smoking','total_cholesterol','SBP','SCORE']\n",
    "\n",
    "dfv = dfr.drop(lc, axis=1)"
   ]
  },
  {
   "cell_type": "code",
   "execution_count": null,
   "metadata": {
    "colab": {
     "base_uri": "https://localhost:8080/",
     "height": 153
    },
    "colab_type": "code",
    "id": "9iElgmwCus9C",
    "outputId": "bb553d12-4477-4651-9dfa-ac9526ae06ca"
   },
   "outputs": [],
   "source": [
    "#1 Visit\n",
    "l1 = l [::4]\n",
    "df1 = dfv.loc[:len(dfv):4]\n",
    "emb1 = reducer.fit_transform(df1)\n",
    "#2 Visit\n",
    "l2 = l [1::4]\n",
    "df2 = dfv.loc[1:len(dfv):4]\n",
    "emb2 = reducer.fit_transform(df2)\n",
    "#3 Visit\n",
    "l3 = l [2::4]\n",
    "df3 = dfv.loc[2:len(dfv):4]\n",
    "emb3 = reducer.fit_transform(df3)\n",
    "#4 Visit\n",
    "l4 = l [3::4]\n",
    "df4 = dfv.loc[3:len(dfv):4]\n",
    "emb4 = reducer.fit_transform(df4)"
   ]
  },
  {
   "cell_type": "code",
   "execution_count": null,
   "metadata": {
    "colab": {
     "base_uri": "https://localhost:8080/",
     "height": 721
    },
    "colab_type": "code",
    "id": "kneWiZfBkyGB",
    "outputId": "3ab6806d-f892-404f-9a14-bc7f77c1c784"
   },
   "outputs": [],
   "source": [
    "plt.figure(figsize= (12,12))\n",
    "plt.scatter(emb1[:, 0], emb1[:, 1], c = l1 , cmap=matplotlib.colors.ListedColormap(colors), s = 16,alpha = 0.3, marker = \"o\")\n",
    "plt.scatter(emb2[:, 0], emb2[:, 1], c = l2 , cmap=matplotlib.colors.ListedColormap(colors), s = 16,alpha = 0.3, marker = \"v\")\n",
    "plt.scatter(emb3[:, 0], emb3[:, 1], c = l3 , cmap=matplotlib.colors.ListedColormap(colors), s = 16,alpha = 0.3, marker = \"s\")\n",
    "plt.scatter(emb4[:, 0], emb4[:, 1], c = l4 , cmap=matplotlib.colors.ListedColormap(colors), s = 16,alpha = 0.3, marker = \"p\")\n"
   ]
  },
  {
   "cell_type": "markdown",
   "metadata": {
    "colab_type": "text",
    "id": "b-RfMPUPmBIR"
   },
   "source": [
    "### Second try"
   ]
  },
  {
   "cell_type": "code",
   "execution_count": null,
   "metadata": {
    "colab": {},
    "colab_type": "code",
    "id": "1Ykyo2CIrsVr"
   },
   "outputs": [],
   "source": [
    "lt = ['float16', 'float32', 'float64']\n",
    "\n",
    "dfr = df.select_dtypes(include = lt)\n",
    "\n",
    "lc = ['SBP','SCORE']\n",
    "\n",
    "dfv = dfr.drop(lc, axis=1)"
   ]
  },
  {
   "cell_type": "code",
   "execution_count": null,
   "metadata": {
    "colab": {
     "base_uri": "https://localhost:8080/",
     "height": 85
    },
    "colab_type": "code",
    "id": "D86DNahU_LRJ",
    "outputId": "9c96c6df-ad36-4fe9-e6f1-1fa7b27ee408"
   },
   "outputs": [],
   "source": [
    "#1 Visit\n",
    "l1 = l [::4]\n",
    "df1 = dfv.loc[:len(dfv):4]\n",
    "emb1 = reducer.fit_transform(df1)\n",
    "#2 Visit\n",
    "l2 = l [1::4]\n",
    "df2 = dfv.loc[1:len(dfv):4]\n",
    "emb2 = reducer.fit_transform(df2)\n",
    "#3 Visit\n",
    "l3 = l [2::4]\n",
    "df3 = dfv.loc[2:len(dfv):4]\n",
    "emb3 = reducer.fit_transform(df3)\n",
    "#4 Visit\n",
    "l4 = l [3::4]\n",
    "df4 = dfv.loc[3:len(dfv):4]\n",
    "emb4 = reducer.fit_transform(df4)"
   ]
  },
  {
   "cell_type": "code",
   "execution_count": null,
   "metadata": {
    "colab": {
     "base_uri": "https://localhost:8080/",
     "height": 721
    },
    "colab_type": "code",
    "id": "VIcLyfln_NiR",
    "outputId": "1e4801f5-48ef-4959-c8a3-4ce469675cfa"
   },
   "outputs": [],
   "source": [
    "plt.figure(figsize= (12,12))\n",
    "plt.scatter(emb1[:, 0], emb1[:, 1], c = l1 , cmap=matplotlib.colors.ListedColormap(colors), s = 16,alpha = 0.3, marker = \"o\")\n",
    "plt.scatter(emb2[:, 0], emb2[:, 1], c = l2 , cmap=matplotlib.colors.ListedColormap(colors), s = 16,alpha = 0.3, marker = \"v\")\n",
    "plt.scatter(emb3[:, 0], emb3[:, 1], c = l3 , cmap=matplotlib.colors.ListedColormap(colors), s = 16,alpha = 0.3, marker = \"s\")\n",
    "plt.scatter(emb4[:, 0], emb4[:, 1], c = l4 , cmap=matplotlib.colors.ListedColormap(colors), s = 16,alpha = 0.3, marker = \"p\")"
   ]
  },
  {
   "cell_type": "markdown",
   "metadata": {
    "colab_type": "text",
    "id": "rpa1VlhtCuMS"
   },
   "source": [
    "###Third try"
   ]
  },
  {
   "cell_type": "code",
   "execution_count": null,
   "metadata": {
    "colab": {},
    "colab_type": "code",
    "id": "8eABMxZXCtob"
   },
   "outputs": [],
   "source": [
    "lt = ['int16', 'int32' , 'int64','float16', 'float32', 'float64']\n",
    "\n",
    "dfr = df.select_dtypes(include = lt)\n",
    "\n",
    "lc = ['SBP','SCORE']\n",
    "\n",
    "dfv = dfr[lc]"
   ]
  },
  {
   "cell_type": "code",
   "execution_count": null,
   "metadata": {
    "colab": {},
    "colab_type": "code",
    "id": "zJunYkhxDI0J"
   },
   "outputs": [],
   "source": []
  },
  {
   "cell_type": "code",
   "execution_count": null,
   "metadata": {
    "colab": {},
    "colab_type": "code",
    "id": "wg1pS3s8_OL3"
   },
   "outputs": [],
   "source": []
  }
 ],
 "metadata": {
  "colab": {
   "collapsed_sections": [],
   "name": "Recreating Score.ipynb",
   "provenance": [],
   "toc_visible": true,
   "version": "0.3.2"
  },
  "kernelspec": {
   "display_name": "Python 3",
   "language": "python",
   "name": "python3"
  },
  "language_info": {
   "codemirror_mode": {
    "name": "ipython",
    "version": 3
   },
   "file_extension": ".py",
   "mimetype": "text/x-python",
   "name": "python",
   "nbconvert_exporter": "python",
   "pygments_lexer": "ipython3",
   "version": "3.7.3"
  }
 },
 "nbformat": 4,
 "nbformat_minor": 1
}
