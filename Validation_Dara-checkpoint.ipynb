{
 "cells": [
  {
   "cell_type": "code",
   "execution_count": null,
   "metadata": {
    "colab": {
     "base_uri": "https://localhost:8080/",
     "height": 136
    },
    "colab_type": "code",
    "id": "DOJ8_iWBQzYJ",
    "outputId": "dc2c87f0-3eae-4c78-fba6-5580b10dd223"
   },
   "outputs": [],
   "source": [
    "!pip install umap-learn"
   ]
  },
  {
   "cell_type": "code",
   "execution_count": null,
   "metadata": {
    "colab": {},
    "colab_type": "code",
    "id": "bttV7281Q1V2"
   },
   "outputs": [],
   "source": [
    "from __future__ import print_function\n",
    "import time\n",
    "import numpy as np\n",
    "import pandas as pd\n",
    "from sklearn.datasets import fetch_mldata\n",
    "from sklearn.decomposition import PCA\n",
    "from sklearn.manifold import TSNE\n",
    "%matplotlib inline\n",
    "import matplotlib.pyplot as plt\n",
    "from mpl_toolkits.mplot3d import Axes3D\n",
    "import seaborn as sns\n",
    "\n",
    "import umap\n",
    "import matplotlib\n"
   ]
  },
  {
   "cell_type": "code",
   "execution_count": null,
   "metadata": {
    "colab": {
     "base_uri": "https://localhost:8080/",
     "height": 34
    },
    "colab_type": "code",
    "id": "D4fcDA-vQ47G",
    "outputId": "64562c70-9e72-48de-98d1-4fc78bc105a2"
   },
   "outputs": [],
   "source": [
    "from google.colab import drive\n",
    "drive.mount('/data', force_remount=True)"
   ]
  },
  {
   "cell_type": "code",
   "execution_count": null,
   "metadata": {
    "colab": {
     "base_uri": "https://localhost:8080/",
     "height": 71
    },
    "colab_type": "code",
    "id": "DmWVE_jpRDRJ",
    "outputId": "8a104279-a69f-438e-ee92-e78a632e0e7a"
   },
   "outputs": [],
   "source": [
    "p = \"/data/My Drive/Data visualization/MILANO_DATA (1).csv\"\n",
    "df =  pd.read_csv(p)"
   ]
  },
  {
   "cell_type": "code",
   "execution_count": null,
   "metadata": {
    "colab": {},
    "colab_type": "code",
    "id": "gu6WhooSRCPH"
   },
   "outputs": [],
   "source": [
    "l = ['int16', 'int32' , 'int64', 'float16', 'float32', 'float64']\n",
    "\n",
    "dfr = df.select_dtypes(include = l)\n",
    "\n",
    "lc = ['age','gender','smoking','total cholesterol','pas']\n",
    "\n",
    "dfv = dfr[lc]\n"
   ]
  },
  {
   "cell_type": "markdown",
   "metadata": {
    "colab_type": "text",
    "id": "H9nSzeJ2dl8Z"
   },
   "source": [
    "### Cholesterol\n"
   ]
  },
  {
   "cell_type": "code",
   "execution_count": null,
   "metadata": {
    "colab": {},
    "colab_type": "code",
    "id": "T8Ks3WBTvsRf"
   },
   "outputs": [],
   "source": [
    "for index, row in dfv.iterrows():\n",
    "   row['total cholesterol']*=0.02586"
   ]
  },
  {
   "cell_type": "markdown",
   "metadata": {
    "colab_type": "text",
    "id": "vocYX-GlvvY1"
   },
   "source": [
    "###Visualisation"
   ]
  },
  {
   "cell_type": "code",
   "execution_count": null,
   "metadata": {
    "colab": {
     "base_uri": "https://localhost:8080/",
     "height": 204
    },
    "colab_type": "code",
    "id": "xmIBcaPDR3-5",
    "outputId": "a0d4c856-e4c9-470b-b7b4-c97e6a977cb4"
   },
   "outputs": [],
   "source": [
    "dfv.loc[:len(dfv):4].head()"
   ]
  },
  {
   "cell_type": "markdown",
   "metadata": {
    "colab_type": "text",
    "id": "FNQjDzNzhyu2"
   },
   "source": [
    "**New df**"
   ]
  },
  {
   "cell_type": "code",
   "execution_count": null,
   "metadata": {
    "colab": {},
    "colab_type": "code",
    "id": "27eauf_bScbA"
   },
   "outputs": [],
   "source": [
    "reducer = umap.UMAP()"
   ]
  },
  {
   "cell_type": "code",
   "execution_count": null,
   "metadata": {
    "colab": {
     "base_uri": "https://localhost:8080/",
     "height": 34
    },
    "colab_type": "code",
    "id": "RlBqXJlOiC3R",
    "outputId": "4c809bc7-72b5-4bf0-87bb-1d79d2dd960d"
   },
   "outputs": [],
   "source": [
    "emb = reducer.fit_transform(dfv)\n",
    "emb.shape"
   ]
  },
  {
   "cell_type": "code",
   "execution_count": null,
   "metadata": {
    "colab": {},
    "colab_type": "code",
    "id": "1mh6SQBKiF2e"
   },
   "outputs": [],
   "source": [
    "label = df['SCORE']\n",
    "label = list(label)"
   ]
  },
  {
   "cell_type": "code",
   "execution_count": null,
   "metadata": {
    "colab": {
     "base_uri": "https://localhost:8080/",
     "height": 54
    },
    "colab_type": "code",
    "id": "tpH8G24Cjb6N",
    "outputId": "22fb6f68-7ad9-4495-d14d-135b84c85c58"
   },
   "outputs": [],
   "source": [
    "l = []\n",
    "for x in label:\n",
    "  if x < 1:\n",
    "    l.append(0)\n",
    "  elif x < 2 and x >1:\n",
    "    l.append(1)\n",
    "  elif x < 5 and x >2:\n",
    "    l.append(2)\n",
    "  else:\n",
    "    l.append(3)\n",
    "\n",
    "print(l)"
   ]
  },
  {
   "cell_type": "code",
   "execution_count": null,
   "metadata": {
    "colab": {},
    "colab_type": "code",
    "id": "aiXok26ajdrW"
   },
   "outputs": [],
   "source": [
    "colors = ['green','yellow','red','purple']"
   ]
  },
  {
   "cell_type": "code",
   "execution_count": null,
   "metadata": {
    "colab": {
     "base_uri": "https://localhost:8080/",
     "height": 286
    },
    "colab_type": "code",
    "id": "kneWiZfBkyGB",
    "outputId": "207ccea3-4a5d-4a76-a204-c72a13f865aa"
   },
   "outputs": [],
   "source": [
    "plt.scatter(emb[:, 0], emb[:, 1],c = l, cmap=matplotlib.colors.ListedColormap(colors), s = 1)"
   ]
  },
  {
   "cell_type": "markdown",
   "metadata": {
    "colab_type": "text",
    "id": "b-RfMPUPmBIR"
   },
   "source": [
    "**Vista 1**"
   ]
  },
  {
   "cell_type": "code",
   "execution_count": null,
   "metadata": {
    "colab": {},
    "colab_type": "code",
    "id": "1OmGrTF7mm6o"
   },
   "outputs": [],
   "source": [
    "l1 = l [::4]"
   ]
  },
  {
   "cell_type": "code",
   "execution_count": null,
   "metadata": {
    "colab": {
     "base_uri": "https://localhost:8080/",
     "height": 54
    },
    "colab_type": "code",
    "id": "voGr6r0EofZk",
    "outputId": "ea41c33a-3261-4bbe-f15e-ec2fce18041d"
   },
   "outputs": [],
   "source": [
    "print(l1)"
   ]
  },
  {
   "cell_type": "code",
   "execution_count": null,
   "metadata": {
    "colab": {},
    "colab_type": "code",
    "id": "FkuP3vwwlI4C"
   },
   "outputs": [],
   "source": [
    "df1 = dfv.loc[:len(dfv):4]\n",
    "emb1 = reducer.fit_transform(df1)"
   ]
  },
  {
   "cell_type": "code",
   "execution_count": null,
   "metadata": {
    "colab": {
     "base_uri": "https://localhost:8080/",
     "height": 286
    },
    "colab_type": "code",
    "id": "akfs9D2bmEqH",
    "outputId": "7f271616-46a7-4f75-d8d8-ee593f5aff5b"
   },
   "outputs": [],
   "source": [
    "plt.scatter(emb1[:, 0], emb1[:, 1], c = l1 , cmap=matplotlib.colors.ListedColormap(colors), s = 1)"
   ]
  },
  {
   "cell_type": "markdown",
   "metadata": {
    "colab_type": "text",
    "id": "xHrXrgbNnczQ"
   },
   "source": [
    "**Visita 2**"
   ]
  },
  {
   "cell_type": "code",
   "execution_count": null,
   "metadata": {
    "colab": {},
    "colab_type": "code",
    "id": "wfnwedmpmfPf"
   },
   "outputs": [],
   "source": [
    "l2 = l [1::4]\n",
    "df2 = dfv.loc[1:len(dfv):4]\n",
    "emb2 = reducer.fit_transform(df2)"
   ]
  },
  {
   "cell_type": "code",
   "execution_count": null,
   "metadata": {
    "colab": {
     "base_uri": "https://localhost:8080/",
     "height": 54
    },
    "colab_type": "code",
    "id": "_F-i4dsxoc7U",
    "outputId": "77d46310-fbf4-4517-e192-9641ffe45ae3"
   },
   "outputs": [],
   "source": [
    "print(l2)"
   ]
  },
  {
   "cell_type": "code",
   "execution_count": null,
   "metadata": {
    "colab": {
     "base_uri": "https://localhost:8080/",
     "height": 286
    },
    "colab_type": "code",
    "id": "3FJ4oNx0n51A",
    "outputId": "f6f8a816-e6fb-4fa1-8fd4-1e3185c262a0"
   },
   "outputs": [],
   "source": [
    "plt.scatter(emb2[:, 0], emb2[:, 1], c = l2 , cmap=matplotlib.colors.ListedColormap(colors), s = 1)"
   ]
  },
  {
   "cell_type": "markdown",
   "metadata": {
    "colab_type": "text",
    "id": "aYFc1QMQoxS0"
   },
   "source": [
    "**Visita 3**"
   ]
  },
  {
   "cell_type": "code",
   "execution_count": null,
   "metadata": {
    "colab": {},
    "colab_type": "code",
    "id": "fhZGdTDen-hi"
   },
   "outputs": [],
   "source": [
    "l3 = l [2::4]\n",
    "df3 = dfv.loc[2:len(dfv):4]\n",
    "emb3 = reducer.fit_transform(df3)"
   ]
  },
  {
   "cell_type": "code",
   "execution_count": null,
   "metadata": {
    "colab": {
     "base_uri": "https://localhost:8080/",
     "height": 286
    },
    "colab_type": "code",
    "id": "UjGN2JLfo4Yz",
    "outputId": "8d9d914f-7dc1-4926-b9d9-ba427a7e072f"
   },
   "outputs": [],
   "source": [
    "plt.scatter(emb3[:, 0], emb3[:, 1], c = l3 , cmap=matplotlib.colors.ListedColormap(colors), s = 1)"
   ]
  },
  {
   "cell_type": "markdown",
   "metadata": {
    "colab_type": "text",
    "id": "Q51DqcTgpRTM"
   },
   "source": [
    "**Visita 4**"
   ]
  },
  {
   "cell_type": "code",
   "execution_count": null,
   "metadata": {
    "colab": {},
    "colab_type": "code",
    "id": "2-kyXql2o81k"
   },
   "outputs": [],
   "source": [
    "l4 = l [3::4]\n",
    "df4 = dfv.loc[3:len(dfv):4]\n",
    "emb4 = reducer.fit_transform(df4)"
   ]
  },
  {
   "cell_type": "code",
   "execution_count": null,
   "metadata": {
    "colab": {
     "base_uri": "https://localhost:8080/",
     "height": 286
    },
    "colab_type": "code",
    "id": "mIhuKs0zpaQ7",
    "outputId": "25943e6d-ed97-4202-a53c-492655a138a8"
   },
   "outputs": [],
   "source": [
    "plt.scatter(emb4[:, 0], emb4[:, 1], c = l4 , cmap=matplotlib.colors.ListedColormap(colors), s = 1)"
   ]
  },
  {
   "cell_type": "code",
   "execution_count": null,
   "metadata": {
    "colab": {},
    "colab_type": "code",
    "id": "g_7rWgSwpkSS"
   },
   "outputs": [],
   "source": []
  }
 ],
 "metadata": {
  "colab": {
   "collapsed_sections": [],
   "name": "Validation Dara.ipynb",
   "provenance": [],
   "toc_visible": true,
   "version": "0.3.2"
  },
  "kernelspec": {
   "display_name": "Python 3",
   "language": "python",
   "name": "python3"
  },
  "language_info": {
   "codemirror_mode": {
    "name": "ipython",
    "version": 3
   },
   "file_extension": ".py",
   "mimetype": "text/x-python",
   "name": "python",
   "nbconvert_exporter": "python",
   "pygments_lexer": "ipython3",
   "version": "3.7.3"
  }
 },
 "nbformat": 4,
 "nbformat_minor": 1
}
