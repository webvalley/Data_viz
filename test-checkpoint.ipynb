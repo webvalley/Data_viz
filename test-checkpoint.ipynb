{
 "cells": [
  {
   "cell_type": "code",
   "execution_count": 1,
   "metadata": {
    "colab": {
     "base_uri": "https://localhost:8080/",
     "height": 51
    },
    "colab_type": "code",
    "id": "GZVc6VrsBfai",
    "outputId": "e4c94c4c-5114-4bd7-e196-2ed61392e070"
   },
   "outputs": [
    {
     "name": "stdout",
     "output_type": "stream",
     "text": [
      "Traceback (most recent call last):\n",
      "\n"
     ]
    }
   ],
   "source": [
    "!pip install umap-learn"
   ]
  },
  {
   "cell_type": "code",
   "execution_count": 0,
   "metadata": {
    "colab": {},
    "colab_type": "code",
    "id": "VUR4J3U2DBk1"
   },
   "outputs": [],
   "source": [
    "from __future__ import print_function\n",
    "import time\n",
    "import numpy as np\n",
    "import pandas as pd\n",
    "from sklearn.datasets import fetch_mldata\n",
    "from sklearn.decomposition import PCA\n",
    "from sklearn.manifold import TSNE\n",
    "%matplotlib inline\n",
    "import matplotlib.pyplot as plt\n",
    "from mpl_toolkits.mplot3d import Axes3D\n",
    "import seaborn as sns\n",
    "\n",
    "import umap\n",
    "import matplotlib"
   ]
  },
  {
   "cell_type": "code",
   "execution_count": 3,
   "metadata": {
    "colab": {
     "base_uri": "https://localhost:8080/",
     "height": 122
    },
    "colab_type": "code",
    "id": "v-jNxOtFDQd5",
    "outputId": "93f2c77c-3d19-4842-dffd-dd6541653205"
   },
   "outputs": [
    {
     "name": "stdout",
     "output_type": "stream",
     "text": [
      "Go to this URL in a browser: https://accounts.google.com/o/oauth2/auth?client_id=947318989803-6bn6qk8qdgf4n4g3pfee6491hc0brc4i.apps.googleusercontent.com&redirect_uri=urn%3Aietf%3Awg%3Aoauth%3A2.0%3Aoob&scope=email%20https%3A%2F%2Fwww.googleapis.com%2Fauth%2Fdocs.test%20https%3A%2F%2Fwww.googleapis.com%2Fauth%2Fdrive%20https%3A%2F%2Fwww.googleapis.com%2Fauth%2Fdrive.photos.readonly%20https%3A%2F%2Fwww.googleapis.com%2Fauth%2Fpeopleapi.readonly&response_type=code\n",
      "\n",
      "Enter your authorization code:\n",
      "··········\n",
      "Mounted at /data\n"
     ]
    }
   ],
   "source": [
    "from google.colab import drive\n",
    "drive.mount('/data', force_remount=True)"
   ]
  },
  {
   "cell_type": "code",
   "execution_count": 0,
   "metadata": {
    "colab": {},
    "colab_type": "code",
    "id": "motMLm6mDqXQ"
   },
   "outputs": [],
   "source": [
    "p = \"/data/My Drive/clean_exports/wSCORE/Milano_Cleaned_wSCORE.xlsx\"\n",
    "df =  pd.read_excel(p)"
   ]
  },
  {
   "cell_type": "code",
   "execution_count": 5,
   "metadata": {
    "colab": {
     "base_uri": "https://localhost:8080/",
     "height": 304
    },
    "colab_type": "code",
    "id": "KoxGYRPYJ9Kc",
    "outputId": "d812afe3-56b4-45d2-bc7e-87a96377ce78"
   },
   "outputs": [
    {
     "data": {
      "text/html": [
       "<div>\n",
       "<style scoped>\n",
       "    .dataframe tbody tr th:only-of-type {\n",
       "        vertical-align: middle;\n",
       "    }\n",
       "\n",
       "    .dataframe tbody tr th {\n",
       "        vertical-align: top;\n",
       "    }\n",
       "\n",
       "    .dataframe thead th {\n",
       "        text-align: right;\n",
       "    }\n",
       "</style>\n",
       "<table border=\"1\" class=\"dataframe\">\n",
       "  <thead>\n",
       "    <tr style=\"text-align: right;\">\n",
       "      <th></th>\n",
       "      <th>Unnamed: 0</th>\n",
       "      <th>Unnamed: 0.1</th>\n",
       "      <th>uricemia</th>\n",
       "      <th>subject_id</th>\n",
       "      <th>eosinophils_percent</th>\n",
       "      <th>self_dyslipidaemia</th>\n",
       "      <th>vol_cell_average</th>\n",
       "      <th>neutrophils_percent</th>\n",
       "      <th>SIV</th>\n",
       "      <th>major_arrhythmias</th>\n",
       "      <th>fibers_a</th>\n",
       "      <th>FE</th>\n",
       "      <th>diabetes1_self</th>\n",
       "      <th>NS_Drugs</th>\n",
       "      <th>peripheral_arteriopathy</th>\n",
       "      <th>tissue_g</th>\n",
       "      <th>neoplasm1_YN</th>\n",
       "      <th>ATT_indication1</th>\n",
       "      <th>IMA</th>\n",
       "      <th>peripheral_arteriopathy_date</th>\n",
       "      <th>pancreatopathy_type</th>\n",
       "      <th>OT_ATC1</th>\n",
       "      <th>left_plaque_YN</th>\n",
       "      <th>b_spirits</th>\n",
       "      <th>SBP</th>\n",
       "      <th>HT_start_date1</th>\n",
       "      <th>gGT</th>\n",
       "      <th>HDL</th>\n",
       "      <th>silent_ischaemia</th>\n",
       "      <th>neoplasm2_date</th>\n",
       "      <th>tofi_skin</th>\n",
       "      <th>alcohols</th>\n",
       "      <th>enlarged_liver</th>\n",
       "      <th>smoking</th>\n",
       "      <th>hepatopathies_YN</th>\n",
       "      <th>abortion_n</th>\n",
       "      <th>ischemia_silente_date</th>\n",
       "      <th>physical_activity_hours</th>\n",
       "      <th>remote_bypass_to</th>\n",
       "      <th>steatosis_degree</th>\n",
       "      <th>...</th>\n",
       "      <th>major_arrhythmias_date</th>\n",
       "      <th>HT_start_date2</th>\n",
       "      <th>LBM</th>\n",
       "      <th>remote_aortic_arteriopathy</th>\n",
       "      <th>creatinine</th>\n",
       "      <th>PTCA_profile</th>\n",
       "      <th>HT_start_date3</th>\n",
       "      <th>diabetes2_self_date</th>\n",
       "      <th>education</th>\n",
       "      <th>arrhythmia_date</th>\n",
       "      <th>cyanosis_skin</th>\n",
       "      <th>PA_ankle_right</th>\n",
       "      <th>ATT_start_date3</th>\n",
       "      <th>erythrocytes</th>\n",
       "      <th>physical_activity_intensity</th>\n",
       "      <th>waist</th>\n",
       "      <th>abdomen</th>\n",
       "      <th>CPK</th>\n",
       "      <th>IVS</th>\n",
       "      <th>hips</th>\n",
       "      <th>cholecystectomy_date</th>\n",
       "      <th>neutrophils</th>\n",
       "      <th>HIGH</th>\n",
       "      <th>BMC_g</th>\n",
       "      <th>date_of_visit</th>\n",
       "      <th>remote_angina_a</th>\n",
       "      <th>neoplasm1_date</th>\n",
       "      <th>Remote_CHD_to</th>\n",
       "      <th>steatosis</th>\n",
       "      <th>DM_ATC4</th>\n",
       "      <th>remote_silent_ischemia_a</th>\n",
       "      <th>bypass_date</th>\n",
       "      <th>menarche</th>\n",
       "      <th>nephropathies_YN</th>\n",
       "      <th>PCR</th>\n",
       "      <th>basophils</th>\n",
       "      <th>Remote_IMA_at</th>\n",
       "      <th>ABI_sx_calc</th>\n",
       "      <th>obesity_self_date</th>\n",
       "      <th>SCORE</th>\n",
       "    </tr>\n",
       "  </thead>\n",
       "  <tbody>\n",
       "    <tr>\n",
       "      <th>0</th>\n",
       "      <td>0</td>\n",
       "      <td>0</td>\n",
       "      <td>-1.0</td>\n",
       "      <td>86</td>\n",
       "      <td>-1.0</td>\n",
       "      <td>4</td>\n",
       "      <td>-1.0</td>\n",
       "      <td>-1.0</td>\n",
       "      <td>-1.0</td>\n",
       "      <td>-1</td>\n",
       "      <td>0</td>\n",
       "      <td>-1.0</td>\n",
       "      <td>0</td>\n",
       "      <td>1</td>\n",
       "      <td>0</td>\n",
       "      <td>-1.0</td>\n",
       "      <td>-1</td>\n",
       "      <td>-1</td>\n",
       "      <td>0</td>\n",
       "      <td>-1</td>\n",
       "      <td>-1</td>\n",
       "      <td>-1</td>\n",
       "      <td>0</td>\n",
       "      <td>-1.0</td>\n",
       "      <td>140.0</td>\n",
       "      <td>-1</td>\n",
       "      <td>-1</td>\n",
       "      <td>50</td>\n",
       "      <td>0</td>\n",
       "      <td>-1</td>\n",
       "      <td>0</td>\n",
       "      <td>3</td>\n",
       "      <td>-1</td>\n",
       "      <td>1</td>\n",
       "      <td>0</td>\n",
       "      <td>-1</td>\n",
       "      <td>-1</td>\n",
       "      <td>-1.0</td>\n",
       "      <td>0</td>\n",
       "      <td>-1</td>\n",
       "      <td>...</td>\n",
       "      <td>-1</td>\n",
       "      <td>-1</td>\n",
       "      <td>-1</td>\n",
       "      <td>0</td>\n",
       "      <td>-1.00</td>\n",
       "      <td>0-0-0-0</td>\n",
       "      <td>-1</td>\n",
       "      <td>-1</td>\n",
       "      <td>3</td>\n",
       "      <td>-1</td>\n",
       "      <td>0</td>\n",
       "      <td>-1</td>\n",
       "      <td>-1</td>\n",
       "      <td>-1.00</td>\n",
       "      <td>-1</td>\n",
       "      <td>-1.0</td>\n",
       "      <td>3</td>\n",
       "      <td>-1</td>\n",
       "      <td>0</td>\n",
       "      <td>-1.0</td>\n",
       "      <td>-1</td>\n",
       "      <td>-1.00</td>\n",
       "      <td>-1</td>\n",
       "      <td>-1.0</td>\n",
       "      <td>1999-03-02</td>\n",
       "      <td>0</td>\n",
       "      <td>-1</td>\n",
       "      <td>0</td>\n",
       "      <td>0</td>\n",
       "      <td>-1</td>\n",
       "      <td>0</td>\n",
       "      <td>-1</td>\n",
       "      <td>-1</td>\n",
       "      <td>0</td>\n",
       "      <td>-1.0</td>\n",
       "      <td>-1.00</td>\n",
       "      <td>0</td>\n",
       "      <td>-1.00</td>\n",
       "      <td>-1</td>\n",
       "      <td>18.261460</td>\n",
       "    </tr>\n",
       "    <tr>\n",
       "      <th>1</th>\n",
       "      <td>1</td>\n",
       "      <td>1</td>\n",
       "      <td>-1.0</td>\n",
       "      <td>86</td>\n",
       "      <td>-1.0</td>\n",
       "      <td>4</td>\n",
       "      <td>-1.0</td>\n",
       "      <td>-1.0</td>\n",
       "      <td>-1.0</td>\n",
       "      <td>-1</td>\n",
       "      <td>0</td>\n",
       "      <td>-1.0</td>\n",
       "      <td>0</td>\n",
       "      <td>0</td>\n",
       "      <td>0</td>\n",
       "      <td>-1.0</td>\n",
       "      <td>-1</td>\n",
       "      <td>-1</td>\n",
       "      <td>0</td>\n",
       "      <td>-1</td>\n",
       "      <td>-1</td>\n",
       "      <td>-1</td>\n",
       "      <td>0</td>\n",
       "      <td>-1.0</td>\n",
       "      <td>170.0</td>\n",
       "      <td>-1</td>\n",
       "      <td>-1</td>\n",
       "      <td>47</td>\n",
       "      <td>0</td>\n",
       "      <td>-1</td>\n",
       "      <td>0</td>\n",
       "      <td>3</td>\n",
       "      <td>-1</td>\n",
       "      <td>1</td>\n",
       "      <td>0</td>\n",
       "      <td>-1</td>\n",
       "      <td>-1</td>\n",
       "      <td>-1.0</td>\n",
       "      <td>0</td>\n",
       "      <td>-1</td>\n",
       "      <td>...</td>\n",
       "      <td>-1</td>\n",
       "      <td>-1</td>\n",
       "      <td>-1</td>\n",
       "      <td>0</td>\n",
       "      <td>-1.00</td>\n",
       "      <td>0-0-0-0</td>\n",
       "      <td>-1</td>\n",
       "      <td>-1</td>\n",
       "      <td>3</td>\n",
       "      <td>-1</td>\n",
       "      <td>0</td>\n",
       "      <td>-1</td>\n",
       "      <td>-1</td>\n",
       "      <td>-1.00</td>\n",
       "      <td>-1</td>\n",
       "      <td>-1.0</td>\n",
       "      <td>3</td>\n",
       "      <td>-1</td>\n",
       "      <td>0</td>\n",
       "      <td>-1.0</td>\n",
       "      <td>-1</td>\n",
       "      <td>-1.00</td>\n",
       "      <td>-1</td>\n",
       "      <td>-1.0</td>\n",
       "      <td>2001-03-20</td>\n",
       "      <td>0</td>\n",
       "      <td>-1</td>\n",
       "      <td>0</td>\n",
       "      <td>0</td>\n",
       "      <td>-1</td>\n",
       "      <td>0</td>\n",
       "      <td>-1</td>\n",
       "      <td>-1</td>\n",
       "      <td>0</td>\n",
       "      <td>-1.0</td>\n",
       "      <td>-1.00</td>\n",
       "      <td>0</td>\n",
       "      <td>-1.00</td>\n",
       "      <td>-1</td>\n",
       "      <td>35.606438</td>\n",
       "    </tr>\n",
       "    <tr>\n",
       "      <th>2</th>\n",
       "      <td>2</td>\n",
       "      <td>2</td>\n",
       "      <td>-1.0</td>\n",
       "      <td>86</td>\n",
       "      <td>-1.0</td>\n",
       "      <td>4</td>\n",
       "      <td>-1.0</td>\n",
       "      <td>-1.0</td>\n",
       "      <td>-1.0</td>\n",
       "      <td>-1</td>\n",
       "      <td>0</td>\n",
       "      <td>-1.0</td>\n",
       "      <td>0</td>\n",
       "      <td>1</td>\n",
       "      <td>0</td>\n",
       "      <td>-1.0</td>\n",
       "      <td>-1</td>\n",
       "      <td>-1</td>\n",
       "      <td>0</td>\n",
       "      <td>-1</td>\n",
       "      <td>-1</td>\n",
       "      <td>C01AA05</td>\n",
       "      <td>0</td>\n",
       "      <td>-1.0</td>\n",
       "      <td>125.0</td>\n",
       "      <td>1994-01-01 00:00:00</td>\n",
       "      <td>41</td>\n",
       "      <td>45</td>\n",
       "      <td>0</td>\n",
       "      <td>-1</td>\n",
       "      <td>0</td>\n",
       "      <td>2</td>\n",
       "      <td>-1</td>\n",
       "      <td>1</td>\n",
       "      <td>0</td>\n",
       "      <td>-1</td>\n",
       "      <td>-1</td>\n",
       "      <td>-1.0</td>\n",
       "      <td>0</td>\n",
       "      <td>-1</td>\n",
       "      <td>...</td>\n",
       "      <td>-1</td>\n",
       "      <td>2007-01-01 00:00:00</td>\n",
       "      <td>-1</td>\n",
       "      <td>0</td>\n",
       "      <td>0.85</td>\n",
       "      <td>0-0-0-0</td>\n",
       "      <td>-1</td>\n",
       "      <td>-1</td>\n",
       "      <td>3</td>\n",
       "      <td>-1</td>\n",
       "      <td>0</td>\n",
       "      <td>-1</td>\n",
       "      <td>-1</td>\n",
       "      <td>-1.00</td>\n",
       "      <td>-1</td>\n",
       "      <td>99.0</td>\n",
       "      <td>3</td>\n",
       "      <td>-1</td>\n",
       "      <td>0</td>\n",
       "      <td>100.0</td>\n",
       "      <td>-1</td>\n",
       "      <td>-1.00</td>\n",
       "      <td>17</td>\n",
       "      <td>-1.0</td>\n",
       "      <td>2007-06-28</td>\n",
       "      <td>0</td>\n",
       "      <td>-1</td>\n",
       "      <td>0</td>\n",
       "      <td>0</td>\n",
       "      <td>-1</td>\n",
       "      <td>0</td>\n",
       "      <td>-1</td>\n",
       "      <td>-1</td>\n",
       "      <td>0</td>\n",
       "      <td>-1.0</td>\n",
       "      <td>-1.00</td>\n",
       "      <td>0</td>\n",
       "      <td>-1.00</td>\n",
       "      <td>-1</td>\n",
       "      <td>19.767495</td>\n",
       "    </tr>\n",
       "    <tr>\n",
       "      <th>3</th>\n",
       "      <td>3</td>\n",
       "      <td>3</td>\n",
       "      <td>4.0</td>\n",
       "      <td>86</td>\n",
       "      <td>4.5</td>\n",
       "      <td>5</td>\n",
       "      <td>82.3</td>\n",
       "      <td>63.0</td>\n",
       "      <td>-1.0</td>\n",
       "      <td>0</td>\n",
       "      <td>0</td>\n",
       "      <td>-1.0</td>\n",
       "      <td>0</td>\n",
       "      <td>1</td>\n",
       "      <td>-1</td>\n",
       "      <td>-1.0</td>\n",
       "      <td>0</td>\n",
       "      <td>-1</td>\n",
       "      <td>0</td>\n",
       "      <td>-1</td>\n",
       "      <td>3</td>\n",
       "      <td>C01AA05</td>\n",
       "      <td>0</td>\n",
       "      <td>-1.0</td>\n",
       "      <td>122.5</td>\n",
       "      <td>1994-01-01 00:00:00</td>\n",
       "      <td>24</td>\n",
       "      <td>42</td>\n",
       "      <td>0</td>\n",
       "      <td>-1</td>\n",
       "      <td>0</td>\n",
       "      <td>2</td>\n",
       "      <td>-1</td>\n",
       "      <td>1</td>\n",
       "      <td>0</td>\n",
       "      <td>-1</td>\n",
       "      <td>-1</td>\n",
       "      <td>-1.0</td>\n",
       "      <td>0</td>\n",
       "      <td>-1</td>\n",
       "      <td>...</td>\n",
       "      <td>-1</td>\n",
       "      <td>-1</td>\n",
       "      <td>-1</td>\n",
       "      <td>0</td>\n",
       "      <td>0.83</td>\n",
       "      <td>0-0-0-0</td>\n",
       "      <td>-1</td>\n",
       "      <td>-1</td>\n",
       "      <td>3</td>\n",
       "      <td>-1</td>\n",
       "      <td>0</td>\n",
       "      <td>130</td>\n",
       "      <td>-1</td>\n",
       "      <td>4.92</td>\n",
       "      <td>-1</td>\n",
       "      <td>-1.0</td>\n",
       "      <td>3</td>\n",
       "      <td>65</td>\n",
       "      <td>0</td>\n",
       "      <td>-1.0</td>\n",
       "      <td>-1</td>\n",
       "      <td>5.52</td>\n",
       "      <td>14</td>\n",
       "      <td>-1.0</td>\n",
       "      <td>2012-10-05</td>\n",
       "      <td>0</td>\n",
       "      <td>-1</td>\n",
       "      <td>0</td>\n",
       "      <td>0</td>\n",
       "      <td>2</td>\n",
       "      <td>0</td>\n",
       "      <td>-1</td>\n",
       "      <td>-1</td>\n",
       "      <td>0</td>\n",
       "      <td>-1.0</td>\n",
       "      <td>0.01</td>\n",
       "      <td>0</td>\n",
       "      <td>1.12</td>\n",
       "      <td>-1</td>\n",
       "      <td>17.788155</td>\n",
       "    </tr>\n",
       "    <tr>\n",
       "      <th>4</th>\n",
       "      <td>4</td>\n",
       "      <td>4</td>\n",
       "      <td>-1.0</td>\n",
       "      <td>33</td>\n",
       "      <td>-1.0</td>\n",
       "      <td>2</td>\n",
       "      <td>-1.0</td>\n",
       "      <td>-1.0</td>\n",
       "      <td>-1.0</td>\n",
       "      <td>-1</td>\n",
       "      <td>0</td>\n",
       "      <td>-1.0</td>\n",
       "      <td>0</td>\n",
       "      <td>1</td>\n",
       "      <td>0</td>\n",
       "      <td>-1.0</td>\n",
       "      <td>-1</td>\n",
       "      <td>-1</td>\n",
       "      <td>0</td>\n",
       "      <td>-1</td>\n",
       "      <td>-1</td>\n",
       "      <td>-1</td>\n",
       "      <td>0</td>\n",
       "      <td>-1.0</td>\n",
       "      <td>130.0</td>\n",
       "      <td>-1</td>\n",
       "      <td>-1</td>\n",
       "      <td>76</td>\n",
       "      <td>0</td>\n",
       "      <td>-1</td>\n",
       "      <td>0</td>\n",
       "      <td>3</td>\n",
       "      <td>-1</td>\n",
       "      <td>0</td>\n",
       "      <td>0</td>\n",
       "      <td>-1</td>\n",
       "      <td>-1</td>\n",
       "      <td>0.0</td>\n",
       "      <td>0</td>\n",
       "      <td>-1</td>\n",
       "      <td>...</td>\n",
       "      <td>-1</td>\n",
       "      <td>-1</td>\n",
       "      <td>-1</td>\n",
       "      <td>0</td>\n",
       "      <td>-1.00</td>\n",
       "      <td>0-0-0-0</td>\n",
       "      <td>-1</td>\n",
       "      <td>-1</td>\n",
       "      <td>5</td>\n",
       "      <td>-1</td>\n",
       "      <td>0</td>\n",
       "      <td>-1</td>\n",
       "      <td>-1</td>\n",
       "      <td>-1.00</td>\n",
       "      <td>-1</td>\n",
       "      <td>-1.0</td>\n",
       "      <td>3</td>\n",
       "      <td>-1</td>\n",
       "      <td>0</td>\n",
       "      <td>-1.0</td>\n",
       "      <td>-1</td>\n",
       "      <td>-1.00</td>\n",
       "      <td>-1</td>\n",
       "      <td>-1.0</td>\n",
       "      <td>1998-11-12</td>\n",
       "      <td>0</td>\n",
       "      <td>-1</td>\n",
       "      <td>0</td>\n",
       "      <td>0</td>\n",
       "      <td>-1</td>\n",
       "      <td>0</td>\n",
       "      <td>-1</td>\n",
       "      <td>16</td>\n",
       "      <td>0</td>\n",
       "      <td>-1.0</td>\n",
       "      <td>-1.00</td>\n",
       "      <td>0</td>\n",
       "      <td>-1.00</td>\n",
       "      <td>-1</td>\n",
       "      <td>3.306981</td>\n",
       "    </tr>\n",
       "  </tbody>\n",
       "</table>\n",
       "<p>5 rows × 281 columns</p>\n",
       "</div>"
      ],
      "text/plain": [
       "   Unnamed: 0  Unnamed: 0.1  uricemia  ...  ABI_sx_calc  obesity_self_date      SCORE\n",
       "0           0             0      -1.0  ...        -1.00                 -1  18.261460\n",
       "1           1             1      -1.0  ...        -1.00                 -1  35.606438\n",
       "2           2             2      -1.0  ...        -1.00                 -1  19.767495\n",
       "3           3             3       4.0  ...         1.12                 -1  17.788155\n",
       "4           4             4      -1.0  ...        -1.00                 -1   3.306981\n",
       "\n",
       "[5 rows x 281 columns]"
      ]
     },
     "execution_count": 5,
     "metadata": {
      "tags": []
     },
     "output_type": "execute_result"
    }
   ],
   "source": [
    "df.head()"
   ]
  },
  {
   "cell_type": "markdown",
   "metadata": {
    "colab_type": "text",
    "id": "vORlykTGHKAs"
   },
   "source": [
    "## To find string"
   ]
  },
  {
   "cell_type": "code",
   "execution_count": 0,
   "metadata": {
    "colab": {},
    "colab_type": "code",
    "id": "0cYjd-P1GM22"
   },
   "outputs": [],
   "source": [
    "dfs = df.select_dtypes(include = 'object')"
   ]
  },
  {
   "cell_type": "code",
   "execution_count": 7,
   "metadata": {
    "colab": {
     "base_uri": "https://localhost:8080/",
     "height": 340
    },
    "colab_type": "code",
    "id": "Dao3th2yHhN5",
    "outputId": "377289ff-7b82-4d85-e1ff-e88828ebf776"
   },
   "outputs": [
    {
     "name": "stdout",
     "output_type": "stream",
     "text": [
      "['peripheral_arteriopathy_date' 'OT_ATC1' 'HT_start_date1'\n",
      " 'neoplasm2_date' 'ischemia_silente_date' 'OT_ATC3' 'OT_ATC2' 'HT_PA4'\n",
      " 'DM_PA2' 'PTCA_date' 'nephropathies_profile' 'nephropathy_date'\n",
      " 'date_TIA' 'DM_ATC2' 'ATT_ATC1' 'cerebral_hemorrhage_date' 'OT_ATC4'\n",
      " 'Dys_PA1' 'Dys_start_date1' 'HT_PA3' 'HT_ATC1' 'self_date_dyslipidemia'\n",
      " 'aortic_arteriopathy_date' 'pancreatopathy_date' 'diabetes1_self_date'\n",
      " 'DM_start_date4' 'HT_ATC3' 'decompensation_date' 'ATT_PA1'\n",
      " 'DM_start_date1' 'body_scan_date' 'OT_ATC5' 'hepatopathies_date'\n",
      " 'urine_date' 'angina_date' 'IVS_date' 'DM_PA1' 'date_atrial_fibrillation'\n",
      " 'DM_start_date2' 'IMA_date' 'thyroid_pathologies_date' 'U_TSA_date'\n",
      " 'stroke_date' 'hypertension_self_date' 'DM_ATC1'\n",
      " 'peripheral_arteriopathy_date_limbs' 'OT_ATC6' 'HT_PA2'\n",
      " 'venous_thrombosis_date' 'HT_ATC4' 'DM_start_date3' 'Dys_ATC1' 'HT_PA1'\n",
      " 'peripheral_arteriopathy_TSA_date' 'HT_start_date4' 'ATT_start_date2'\n",
      " 'HT_ATC2' 'Dys_PA2' 'date_neoplasm' 'COPD_date' 'Dys_ATC2'\n",
      " 'ATT_start_date1' 'Dys_start_date2' 'major_arrhythmias_date'\n",
      " 'HT_start_date2' 'PTCA_profile' 'HT_start_date3' 'diabetes2_self_date'\n",
      " 'arrhythmia_date' 'ATT_start_date3' 'cholecystectomy_date'\n",
      " 'neoplasm1_date' 'bypass_date' 'obesity_self_date']\n"
     ]
    }
   ],
   "source": [
    "print(dfs.columns.values)"
   ]
  },
  {
   "cell_type": "markdown",
   "metadata": {
    "colab_type": "text",
    "id": "i1ZkY0-9HiIN"
   },
   "source": [
    "## To find validate data"
   ]
  },
  {
   "cell_type": "code",
   "execution_count": 0,
   "metadata": {
    "colab": {},
    "colab_type": "code",
    "id": "8AmayYY0chtV"
   },
   "outputs": [],
   "source": [
    "l = ['int16', 'int32' , 'int64', 'float16', 'float32', 'float64']\n",
    "\n",
    "dfv = df.select_dtypes(include = l)\n"
   ]
  },
  {
   "cell_type": "code",
   "execution_count": 9,
   "metadata": {
    "colab": {
     "base_uri": "https://localhost:8080/",
     "height": 270
    },
    "colab_type": "code",
    "id": "XYRlrSHjLjIc",
    "outputId": "43914001-9a09-4b40-82cf-75ce8b8dc395"
   },
   "outputs": [
    {
     "data": {
      "text/html": [
       "<div>\n",
       "<style scoped>\n",
       "    .dataframe tbody tr th:only-of-type {\n",
       "        vertical-align: middle;\n",
       "    }\n",
       "\n",
       "    .dataframe tbody tr th {\n",
       "        vertical-align: top;\n",
       "    }\n",
       "\n",
       "    .dataframe thead th {\n",
       "        text-align: right;\n",
       "    }\n",
       "</style>\n",
       "<table border=\"1\" class=\"dataframe\">\n",
       "  <thead>\n",
       "    <tr style=\"text-align: right;\">\n",
       "      <th></th>\n",
       "      <th>Unnamed: 0</th>\n",
       "      <th>Unnamed: 0.1</th>\n",
       "      <th>uricemia</th>\n",
       "      <th>subject_id</th>\n",
       "      <th>eosinophils_percent</th>\n",
       "      <th>self_dyslipidaemia</th>\n",
       "      <th>vol_cell_average</th>\n",
       "      <th>neutrophils_percent</th>\n",
       "      <th>SIV</th>\n",
       "      <th>major_arrhythmias</th>\n",
       "      <th>fibers_a</th>\n",
       "      <th>FE</th>\n",
       "      <th>diabetes1_self</th>\n",
       "      <th>NS_Drugs</th>\n",
       "      <th>peripheral_arteriopathy</th>\n",
       "      <th>tissue_g</th>\n",
       "      <th>neoplasm1_YN</th>\n",
       "      <th>ATT_indication1</th>\n",
       "      <th>IMA</th>\n",
       "      <th>pancreatopathy_type</th>\n",
       "      <th>left_plaque_YN</th>\n",
       "      <th>b_spirits</th>\n",
       "      <th>SBP</th>\n",
       "      <th>gGT</th>\n",
       "      <th>HDL</th>\n",
       "      <th>silent_ischaemia</th>\n",
       "      <th>tofi_skin</th>\n",
       "      <th>alcohols</th>\n",
       "      <th>enlarged_liver</th>\n",
       "      <th>smoking</th>\n",
       "      <th>hepatopathies_YN</th>\n",
       "      <th>abortion_n</th>\n",
       "      <th>physical_activity_hours</th>\n",
       "      <th>remote_bypass_to</th>\n",
       "      <th>steatosis_degree</th>\n",
       "      <th>menopause_age</th>\n",
       "      <th>b_Beer</th>\n",
       "      <th>Remote_PTCA_to</th>\n",
       "      <th>extremities</th>\n",
       "      <th>ABI_mean_calc</th>\n",
       "      <th>...</th>\n",
       "      <th>menopause</th>\n",
       "      <th>CHD</th>\n",
       "      <th>cholecystectomy</th>\n",
       "      <th>endothelial_dysfunction</th>\n",
       "      <th>DBP</th>\n",
       "      <th>heart_rate</th>\n",
       "      <th>EA_Low</th>\n",
       "      <th>remote_decompensation_at</th>\n",
       "      <th>Stroke_Profile</th>\n",
       "      <th>peripheral_arteriopathy_limbs</th>\n",
       "      <th>fabric_perc</th>\n",
       "      <th>lymphocytes_percent</th>\n",
       "      <th>LBM</th>\n",
       "      <th>remote_aortic_arteriopathy</th>\n",
       "      <th>creatinine</th>\n",
       "      <th>education</th>\n",
       "      <th>cyanosis_skin</th>\n",
       "      <th>PA_ankle_right</th>\n",
       "      <th>erythrocytes</th>\n",
       "      <th>physical_activity_intensity</th>\n",
       "      <th>waist</th>\n",
       "      <th>abdomen</th>\n",
       "      <th>CPK</th>\n",
       "      <th>IVS</th>\n",
       "      <th>hips</th>\n",
       "      <th>neutrophils</th>\n",
       "      <th>HIGH</th>\n",
       "      <th>BMC_g</th>\n",
       "      <th>remote_angina_a</th>\n",
       "      <th>Remote_CHD_to</th>\n",
       "      <th>steatosis</th>\n",
       "      <th>DM_ATC4</th>\n",
       "      <th>remote_silent_ischemia_a</th>\n",
       "      <th>menarche</th>\n",
       "      <th>nephropathies_YN</th>\n",
       "      <th>PCR</th>\n",
       "      <th>basophils</th>\n",
       "      <th>Remote_IMA_at</th>\n",
       "      <th>ABI_sx_calc</th>\n",
       "      <th>SCORE</th>\n",
       "    </tr>\n",
       "  </thead>\n",
       "  <tbody>\n",
       "    <tr>\n",
       "      <th>0</th>\n",
       "      <td>0</td>\n",
       "      <td>0</td>\n",
       "      <td>-1.0</td>\n",
       "      <td>86</td>\n",
       "      <td>-1.0</td>\n",
       "      <td>4</td>\n",
       "      <td>-1.0</td>\n",
       "      <td>-1.0</td>\n",
       "      <td>-1.0</td>\n",
       "      <td>-1</td>\n",
       "      <td>0</td>\n",
       "      <td>-1.0</td>\n",
       "      <td>0</td>\n",
       "      <td>1</td>\n",
       "      <td>0</td>\n",
       "      <td>-1.0</td>\n",
       "      <td>-1</td>\n",
       "      <td>-1</td>\n",
       "      <td>0</td>\n",
       "      <td>-1</td>\n",
       "      <td>0</td>\n",
       "      <td>-1.0</td>\n",
       "      <td>140.0</td>\n",
       "      <td>-1</td>\n",
       "      <td>50</td>\n",
       "      <td>0</td>\n",
       "      <td>0</td>\n",
       "      <td>3</td>\n",
       "      <td>-1</td>\n",
       "      <td>1</td>\n",
       "      <td>0</td>\n",
       "      <td>-1</td>\n",
       "      <td>-1.0</td>\n",
       "      <td>0</td>\n",
       "      <td>-1</td>\n",
       "      <td>-1</td>\n",
       "      <td>-1.0</td>\n",
       "      <td>0</td>\n",
       "      <td>3</td>\n",
       "      <td>-1.000000</td>\n",
       "      <td>...</td>\n",
       "      <td>-1</td>\n",
       "      <td>0</td>\n",
       "      <td>0</td>\n",
       "      <td>-1</td>\n",
       "      <td>70.0</td>\n",
       "      <td>-1</td>\n",
       "      <td>-1.0</td>\n",
       "      <td>0</td>\n",
       "      <td>5</td>\n",
       "      <td>-1</td>\n",
       "      <td>-1.0</td>\n",
       "      <td>-1.0</td>\n",
       "      <td>-1</td>\n",
       "      <td>0</td>\n",
       "      <td>-1.00</td>\n",
       "      <td>3</td>\n",
       "      <td>0</td>\n",
       "      <td>-1</td>\n",
       "      <td>-1.00</td>\n",
       "      <td>-1</td>\n",
       "      <td>-1.0</td>\n",
       "      <td>3</td>\n",
       "      <td>-1</td>\n",
       "      <td>0</td>\n",
       "      <td>-1.0</td>\n",
       "      <td>-1.00</td>\n",
       "      <td>-1</td>\n",
       "      <td>-1.0</td>\n",
       "      <td>0</td>\n",
       "      <td>0</td>\n",
       "      <td>0</td>\n",
       "      <td>-1</td>\n",
       "      <td>0</td>\n",
       "      <td>-1</td>\n",
       "      <td>0</td>\n",
       "      <td>-1.0</td>\n",
       "      <td>-1.00</td>\n",
       "      <td>0</td>\n",
       "      <td>-1.00</td>\n",
       "      <td>18.261460</td>\n",
       "    </tr>\n",
       "    <tr>\n",
       "      <th>1</th>\n",
       "      <td>1</td>\n",
       "      <td>1</td>\n",
       "      <td>-1.0</td>\n",
       "      <td>86</td>\n",
       "      <td>-1.0</td>\n",
       "      <td>4</td>\n",
       "      <td>-1.0</td>\n",
       "      <td>-1.0</td>\n",
       "      <td>-1.0</td>\n",
       "      <td>-1</td>\n",
       "      <td>0</td>\n",
       "      <td>-1.0</td>\n",
       "      <td>0</td>\n",
       "      <td>0</td>\n",
       "      <td>0</td>\n",
       "      <td>-1.0</td>\n",
       "      <td>-1</td>\n",
       "      <td>-1</td>\n",
       "      <td>0</td>\n",
       "      <td>-1</td>\n",
       "      <td>0</td>\n",
       "      <td>-1.0</td>\n",
       "      <td>170.0</td>\n",
       "      <td>-1</td>\n",
       "      <td>47</td>\n",
       "      <td>0</td>\n",
       "      <td>0</td>\n",
       "      <td>3</td>\n",
       "      <td>-1</td>\n",
       "      <td>1</td>\n",
       "      <td>0</td>\n",
       "      <td>-1</td>\n",
       "      <td>-1.0</td>\n",
       "      <td>0</td>\n",
       "      <td>-1</td>\n",
       "      <td>-1</td>\n",
       "      <td>-1.0</td>\n",
       "      <td>0</td>\n",
       "      <td>3</td>\n",
       "      <td>-1.000000</td>\n",
       "      <td>...</td>\n",
       "      <td>-1</td>\n",
       "      <td>0</td>\n",
       "      <td>0</td>\n",
       "      <td>-1</td>\n",
       "      <td>100.0</td>\n",
       "      <td>70</td>\n",
       "      <td>-1.0</td>\n",
       "      <td>0</td>\n",
       "      <td>5</td>\n",
       "      <td>-1</td>\n",
       "      <td>-1.0</td>\n",
       "      <td>-1.0</td>\n",
       "      <td>-1</td>\n",
       "      <td>0</td>\n",
       "      <td>-1.00</td>\n",
       "      <td>3</td>\n",
       "      <td>0</td>\n",
       "      <td>-1</td>\n",
       "      <td>-1.00</td>\n",
       "      <td>-1</td>\n",
       "      <td>-1.0</td>\n",
       "      <td>3</td>\n",
       "      <td>-1</td>\n",
       "      <td>0</td>\n",
       "      <td>-1.0</td>\n",
       "      <td>-1.00</td>\n",
       "      <td>-1</td>\n",
       "      <td>-1.0</td>\n",
       "      <td>0</td>\n",
       "      <td>0</td>\n",
       "      <td>0</td>\n",
       "      <td>-1</td>\n",
       "      <td>0</td>\n",
       "      <td>-1</td>\n",
       "      <td>0</td>\n",
       "      <td>-1.0</td>\n",
       "      <td>-1.00</td>\n",
       "      <td>0</td>\n",
       "      <td>-1.00</td>\n",
       "      <td>35.606438</td>\n",
       "    </tr>\n",
       "    <tr>\n",
       "      <th>2</th>\n",
       "      <td>2</td>\n",
       "      <td>2</td>\n",
       "      <td>-1.0</td>\n",
       "      <td>86</td>\n",
       "      <td>-1.0</td>\n",
       "      <td>4</td>\n",
       "      <td>-1.0</td>\n",
       "      <td>-1.0</td>\n",
       "      <td>-1.0</td>\n",
       "      <td>-1</td>\n",
       "      <td>0</td>\n",
       "      <td>-1.0</td>\n",
       "      <td>0</td>\n",
       "      <td>1</td>\n",
       "      <td>0</td>\n",
       "      <td>-1.0</td>\n",
       "      <td>-1</td>\n",
       "      <td>-1</td>\n",
       "      <td>0</td>\n",
       "      <td>-1</td>\n",
       "      <td>0</td>\n",
       "      <td>-1.0</td>\n",
       "      <td>125.0</td>\n",
       "      <td>41</td>\n",
       "      <td>45</td>\n",
       "      <td>0</td>\n",
       "      <td>0</td>\n",
       "      <td>2</td>\n",
       "      <td>-1</td>\n",
       "      <td>1</td>\n",
       "      <td>0</td>\n",
       "      <td>-1</td>\n",
       "      <td>-1.0</td>\n",
       "      <td>0</td>\n",
       "      <td>-1</td>\n",
       "      <td>-1</td>\n",
       "      <td>-1.0</td>\n",
       "      <td>0</td>\n",
       "      <td>3</td>\n",
       "      <td>-1.000000</td>\n",
       "      <td>...</td>\n",
       "      <td>-1</td>\n",
       "      <td>0</td>\n",
       "      <td>0</td>\n",
       "      <td>-1</td>\n",
       "      <td>60.0</td>\n",
       "      <td>72</td>\n",
       "      <td>-1.0</td>\n",
       "      <td>0</td>\n",
       "      <td>5</td>\n",
       "      <td>-1</td>\n",
       "      <td>-1.0</td>\n",
       "      <td>-1.0</td>\n",
       "      <td>-1</td>\n",
       "      <td>0</td>\n",
       "      <td>0.85</td>\n",
       "      <td>3</td>\n",
       "      <td>0</td>\n",
       "      <td>-1</td>\n",
       "      <td>-1.00</td>\n",
       "      <td>-1</td>\n",
       "      <td>99.0</td>\n",
       "      <td>3</td>\n",
       "      <td>-1</td>\n",
       "      <td>0</td>\n",
       "      <td>100.0</td>\n",
       "      <td>-1.00</td>\n",
       "      <td>17</td>\n",
       "      <td>-1.0</td>\n",
       "      <td>0</td>\n",
       "      <td>0</td>\n",
       "      <td>0</td>\n",
       "      <td>-1</td>\n",
       "      <td>0</td>\n",
       "      <td>-1</td>\n",
       "      <td>0</td>\n",
       "      <td>-1.0</td>\n",
       "      <td>-1.00</td>\n",
       "      <td>0</td>\n",
       "      <td>-1.00</td>\n",
       "      <td>19.767495</td>\n",
       "    </tr>\n",
       "    <tr>\n",
       "      <th>3</th>\n",
       "      <td>3</td>\n",
       "      <td>3</td>\n",
       "      <td>4.0</td>\n",
       "      <td>86</td>\n",
       "      <td>4.5</td>\n",
       "      <td>5</td>\n",
       "      <td>82.3</td>\n",
       "      <td>63.0</td>\n",
       "      <td>-1.0</td>\n",
       "      <td>0</td>\n",
       "      <td>0</td>\n",
       "      <td>-1.0</td>\n",
       "      <td>0</td>\n",
       "      <td>1</td>\n",
       "      <td>-1</td>\n",
       "      <td>-1.0</td>\n",
       "      <td>0</td>\n",
       "      <td>-1</td>\n",
       "      <td>0</td>\n",
       "      <td>3</td>\n",
       "      <td>0</td>\n",
       "      <td>-1.0</td>\n",
       "      <td>122.5</td>\n",
       "      <td>24</td>\n",
       "      <td>42</td>\n",
       "      <td>0</td>\n",
       "      <td>0</td>\n",
       "      <td>2</td>\n",
       "      <td>-1</td>\n",
       "      <td>1</td>\n",
       "      <td>0</td>\n",
       "      <td>-1</td>\n",
       "      <td>-1.0</td>\n",
       "      <td>0</td>\n",
       "      <td>-1</td>\n",
       "      <td>-1</td>\n",
       "      <td>-1.0</td>\n",
       "      <td>0</td>\n",
       "      <td>3</td>\n",
       "      <td>1.101667</td>\n",
       "      <td>...</td>\n",
       "      <td>-1</td>\n",
       "      <td>0</td>\n",
       "      <td>0</td>\n",
       "      <td>-1</td>\n",
       "      <td>80.0</td>\n",
       "      <td>80</td>\n",
       "      <td>-1.0</td>\n",
       "      <td>0</td>\n",
       "      <td>5</td>\n",
       "      <td>0</td>\n",
       "      <td>-1.0</td>\n",
       "      <td>21.3</td>\n",
       "      <td>-1</td>\n",
       "      <td>0</td>\n",
       "      <td>0.83</td>\n",
       "      <td>3</td>\n",
       "      <td>0</td>\n",
       "      <td>130</td>\n",
       "      <td>4.92</td>\n",
       "      <td>-1</td>\n",
       "      <td>-1.0</td>\n",
       "      <td>3</td>\n",
       "      <td>65</td>\n",
       "      <td>0</td>\n",
       "      <td>-1.0</td>\n",
       "      <td>5.52</td>\n",
       "      <td>14</td>\n",
       "      <td>-1.0</td>\n",
       "      <td>0</td>\n",
       "      <td>0</td>\n",
       "      <td>0</td>\n",
       "      <td>2</td>\n",
       "      <td>0</td>\n",
       "      <td>-1</td>\n",
       "      <td>0</td>\n",
       "      <td>-1.0</td>\n",
       "      <td>0.01</td>\n",
       "      <td>0</td>\n",
       "      <td>1.12</td>\n",
       "      <td>17.788155</td>\n",
       "    </tr>\n",
       "    <tr>\n",
       "      <th>4</th>\n",
       "      <td>4</td>\n",
       "      <td>4</td>\n",
       "      <td>-1.0</td>\n",
       "      <td>33</td>\n",
       "      <td>-1.0</td>\n",
       "      <td>2</td>\n",
       "      <td>-1.0</td>\n",
       "      <td>-1.0</td>\n",
       "      <td>-1.0</td>\n",
       "      <td>-1</td>\n",
       "      <td>0</td>\n",
       "      <td>-1.0</td>\n",
       "      <td>0</td>\n",
       "      <td>1</td>\n",
       "      <td>0</td>\n",
       "      <td>-1.0</td>\n",
       "      <td>-1</td>\n",
       "      <td>-1</td>\n",
       "      <td>0</td>\n",
       "      <td>-1</td>\n",
       "      <td>0</td>\n",
       "      <td>-1.0</td>\n",
       "      <td>130.0</td>\n",
       "      <td>-1</td>\n",
       "      <td>76</td>\n",
       "      <td>0</td>\n",
       "      <td>0</td>\n",
       "      <td>3</td>\n",
       "      <td>-1</td>\n",
       "      <td>0</td>\n",
       "      <td>0</td>\n",
       "      <td>-1</td>\n",
       "      <td>0.0</td>\n",
       "      <td>0</td>\n",
       "      <td>-1</td>\n",
       "      <td>-1</td>\n",
       "      <td>-1.0</td>\n",
       "      <td>0</td>\n",
       "      <td>3</td>\n",
       "      <td>-1.000000</td>\n",
       "      <td>...</td>\n",
       "      <td>48</td>\n",
       "      <td>0</td>\n",
       "      <td>0</td>\n",
       "      <td>-1</td>\n",
       "      <td>90.0</td>\n",
       "      <td>-1</td>\n",
       "      <td>-1.0</td>\n",
       "      <td>0</td>\n",
       "      <td>2</td>\n",
       "      <td>-1</td>\n",
       "      <td>-1.0</td>\n",
       "      <td>-1.0</td>\n",
       "      <td>-1</td>\n",
       "      <td>0</td>\n",
       "      <td>-1.00</td>\n",
       "      <td>5</td>\n",
       "      <td>0</td>\n",
       "      <td>-1</td>\n",
       "      <td>-1.00</td>\n",
       "      <td>-1</td>\n",
       "      <td>-1.0</td>\n",
       "      <td>3</td>\n",
       "      <td>-1</td>\n",
       "      <td>0</td>\n",
       "      <td>-1.0</td>\n",
       "      <td>-1.00</td>\n",
       "      <td>-1</td>\n",
       "      <td>-1.0</td>\n",
       "      <td>0</td>\n",
       "      <td>0</td>\n",
       "      <td>0</td>\n",
       "      <td>-1</td>\n",
       "      <td>0</td>\n",
       "      <td>16</td>\n",
       "      <td>0</td>\n",
       "      <td>-1.0</td>\n",
       "      <td>-1.00</td>\n",
       "      <td>0</td>\n",
       "      <td>-1.00</td>\n",
       "      <td>3.306981</td>\n",
       "    </tr>\n",
       "  </tbody>\n",
       "</table>\n",
       "<p>5 rows × 204 columns</p>\n",
       "</div>"
      ],
      "text/plain": [
       "   Unnamed: 0  Unnamed: 0.1  uricemia  ...  Remote_IMA_at  ABI_sx_calc      SCORE\n",
       "0           0             0      -1.0  ...              0        -1.00  18.261460\n",
       "1           1             1      -1.0  ...              0        -1.00  35.606438\n",
       "2           2             2      -1.0  ...              0        -1.00  19.767495\n",
       "3           3             3       4.0  ...              0         1.12  17.788155\n",
       "4           4             4      -1.0  ...              0        -1.00   3.306981\n",
       "\n",
       "[5 rows x 204 columns]"
      ]
     },
     "execution_count": 9,
     "metadata": {
      "tags": []
     },
     "output_type": "execute_result"
    }
   ],
   "source": [
    "dfv.head()"
   ]
  },
  {
   "cell_type": "code",
   "execution_count": 10,
   "metadata": {
    "colab": {
     "base_uri": "https://localhost:8080/",
     "height": 816
    },
    "colab_type": "code",
    "id": "EgCQXM9rdpzX",
    "outputId": "7d199fef-2d78-4910-9734-86bfab855b8c"
   },
   "outputs": [
    {
     "name": "stdout",
     "output_type": "stream",
     "text": [
      "['Unnamed: 0' 'Unnamed: 0.1' 'uricemia' 'subject_id' 'eosinophils_percent'\n",
      " 'self_dyslipidaemia' 'vol_cell_average' 'neutrophils_percent' 'SIV'\n",
      " 'major_arrhythmias' 'fibers_a' 'FE' 'diabetes1_self' 'NS_Drugs'\n",
      " 'peripheral_arteriopathy' 'tissue_g' 'neoplasm1_YN' 'ATT_indication1'\n",
      " 'IMA' 'pancreatopathy_type' 'left_plaque_YN' 'b_spirits' 'SBP' 'gGT'\n",
      " 'HDL' 'silent_ischaemia' 'tofi_skin' 'alcohols' 'enlarged_liver'\n",
      " 'smoking' 'hepatopathies_YN' 'abortion_n' 'physical_activity_hours'\n",
      " 'remote_bypass_to' 'steatosis_degree' 'menopause_age' 'b_Beer'\n",
      " 'Remote_PTCA_to' 'extremities' 'ABI_mean_calc' 'haemoglobin' 'AG-RATIO'\n",
      " 'Remote_TIA_to' 'HT_ATC5' 'age' 'remote_peripheral_arteriopathy' 'AST'\n",
      " 'induced' 'antihypertensive_to' 'OT_ATC12' 'pregnancies_n' 'COPD'\n",
      " 'OT_ATC11' 'ATT_ATC3' 'bruit_YN' 'Profile_bypass' 'respiratory_system'\n",
      " 'RDW_CV' 'pale_skin' 'neoplasm1_therapy' 'statins_a' 'weight'\n",
      " 'right_corneal_arch' 'TIA_profile' 'angina' 'FMD' 'Cute_Xanthomas'\n",
      " 'Lunar_YN' 'EA' 'self_obesity' 'thyroid_nodules' 'ginoid_perc'\n",
      " 'completed_pregnancies' 'self_type_dyslipidemia' 'ABI_dx_calc'\n",
      " 'hematocrit' 'lymphocytes' 'hypertension_self' 'epicardial_fat' 'OT_ATC9'\n",
      " 'diabetes2_self' 'ischaemia_silent_profile' 'b_wine' 'DM_PA4'\n",
      " 'total_cholesterol' 'TG' 'Android_perc' 'HT_PA5' 'aortic_arteriopathy'\n",
      " 'neoplasm2_YN' 'skin_infections' 'IMT_CC_max_right' 'visits_carried_out'\n",
      " 'cute_oedemas' 'OT_ATC7' 'monocytes_percent' 'BMD_g' 'leukocytes'\n",
      " 'IMA_profile' 'basophils_percent' 'apoB' 'ATT_PA3' 'IMT_CC_average_right'\n",
      " 'ATT_ATC2' 'strokes' 'cerebral_hemorrhage' 'NS_neoplasm'\n",
      " 'standardised_visits_to' 'PTCA' 'smoking_recod' 'antiaggregants_to'\n",
      " 'apoA1' 'right_plaque_YN' 'OT_ATC8' 'conc_hb_cell_average'\n",
      " 'IMT_CC_max_left' 'neoplasm2_operated' 'atrial_fibrillation'\n",
      " 'neoplasia2_therapy' 'angina_profile' 'cute_xanthelasms' 'CHD_profile'\n",
      " 'Remote_stroke_at' 'peripheral_arteriopathy_TSA' 'eosinophils'\n",
      " 'thyroid_function' 'skin_hematomas' 'lean_g' 'DM_PA3' 'PA_left_ankle'\n",
      " 'imbalance' 'waist_hips_calc' 'clearance_CG_calc' 'USED_OT_ATC10'\n",
      " 'pancreatopathy_YN' 'arrhythmia' 'hemoglobin_cell_average'\n",
      " 'thyroid_appearance' 'IMT_CC_average_left' 'DM_ATC3'\n",
      " 'peripheral_arterial_wrists' 'bypass' 'antidiabetics_to' 'height'\n",
      " 'ECOSTEATOSIS_ECOCARDIO' 'plates' 'xanthomatosis' 'monocytes'\n",
      " 'left_corneal_arch' 'BMI_calc' 'venous_thrombosis' 'LDL_calc' 'fat_g'\n",
      " 'pancreas' 'gender' 'RDW_SD' 'steatosis_YN' 'aorta_calcifications'\n",
      " 'ATT_PA2' 'physical_activity' 'glucose' 'neoplasm1_operated_on'\n",
      " 'neoplasm2_type' 'TIA' 'menopause' 'CHD' 'cholecystectomy'\n",
      " 'endothelial_dysfunction' 'DBP' 'heart_rate' 'EA_Low'\n",
      " 'remote_decompensation_at' 'Stroke_Profile'\n",
      " 'peripheral_arteriopathy_limbs' 'fabric_perc' 'lymphocytes_percent' 'LBM'\n",
      " 'remote_aortic_arteriopathy' 'creatinine' 'education' 'cyanosis_skin'\n",
      " 'PA_ankle_right' 'erythrocytes' 'physical_activity_intensity' 'waist'\n",
      " 'abdomen' 'CPK' 'IVS' 'hips' 'neutrophils' 'HIGH' 'BMC_g'\n",
      " 'remote_angina_a' 'Remote_CHD_to' 'steatosis' 'DM_ATC4'\n",
      " 'remote_silent_ischemia_a' 'menarche' 'nephropathies_YN' 'PCR'\n",
      " 'basophils' 'Remote_IMA_at' 'ABI_sx_calc' 'SCORE']\n"
     ]
    }
   ],
   "source": [
    "print(dfv.columns.values)"
   ]
  },
  {
   "cell_type": "markdown",
   "metadata": {
    "colab_type": "text",
    "id": "DUC9WX81QF6F"
   },
   "source": [
    "### Data veiw"
   ]
  },
  {
   "cell_type": "code",
   "execution_count": 0,
   "metadata": {
    "colab": {},
    "colab_type": "code",
    "id": "NrHL8zQMexpd"
   },
   "outputs": [],
   "source": [
    "reducer = umap.UMAP()"
   ]
  },
  {
   "cell_type": "code",
   "execution_count": 12,
   "metadata": {
    "colab": {
     "base_uri": "https://localhost:8080/",
     "height": 68
    },
    "colab_type": "code",
    "id": "0gWJ4LyyUu_A",
    "outputId": "82a23bd6-80bc-41b8-f25b-e93e595c189d"
   },
   "outputs": [
    {
     "name": "stderr",
     "output_type": "stream",
     "text": [
      "/usr/local/lib/python3.6/dist-packages/umap/spectral.py:229: UserWarning: Embedding a total of 4 separate connected components using meta-embedding (experimental)\n",
      "  n_components\n"
     ]
    },
    {
     "data": {
      "text/plain": [
       "(5780, 2)"
      ]
     },
     "execution_count": 12,
     "metadata": {
      "tags": []
     },
     "output_type": "execute_result"
    }
   ],
   "source": [
    "emb = reducer.fit_transform(dfv)\n",
    "emb.shape"
   ]
  },
  {
   "cell_type": "code",
   "execution_count": 0,
   "metadata": {
    "colab": {},
    "colab_type": "code",
    "id": "r0d9hw2RZVCZ"
   },
   "outputs": [],
   "source": [
    "label = []\n",
    "i = 1\n",
    "for x in range(len(dfv)):\n",
    "  if i > 5:\n",
    "    i = 1\n",
    "  label.append(i)\n",
    "  i = i + 1"
   ]
  },
  {
   "cell_type": "code",
   "execution_count": 0,
   "metadata": {
    "colab": {},
    "colab_type": "code",
    "id": "75xRjnXJalpd"
   },
   "outputs": [],
   "source": [
    "colors = ['red','blue','purple','yellow']"
   ]
  },
  {
   "cell_type": "code",
   "execution_count": 15,
   "metadata": {
    "colab": {
     "base_uri": "https://localhost:8080/",
     "height": 286
    },
    "colab_type": "code",
    "id": "lBuel4VbVGdb",
    "outputId": "a2a6857c-a1fd-4c07-dcb5-90f8854b2335"
   },
   "outputs": [
    {
     "data": {
      "text/plain": [
       "<matplotlib.collections.PathCollection at 0x7fb245791518>"
      ]
     },
     "execution_count": 15,
     "metadata": {
      "tags": []
     },
     "output_type": "execute_result"
    },
    {
     "data": {
      "image/png": "[encoded data removed]",
      "text/plain": [
       "<Figure size 432x288 with 1 Axes>"
      ]
     },
     "metadata": {
      "tags": []
     },
     "output_type": "display_data"
    }
   ],
   "source": [
    "plt.scatter(emb[:, 0], emb[:, 1],c=label, cmap=matplotlib.colors.ListedColormap(colors), s = 1)"
   ]
  },
  {
   "cell_type": "markdown",
   "metadata": {
    "colab_type": "text",
    "id": "MvA0h-I7UkPM"
   },
   "source": [
    "### Visita 1"
   ]
  },
  {
   "cell_type": "code",
   "execution_count": 0,
   "metadata": {
    "colab": {},
    "colab_type": "code",
    "id": "5QxfEkzuSrgM"
   },
   "outputs": [],
   "source": [
    "df1 = dfv.loc[:len(dfv):4]"
   ]
  },
  {
   "cell_type": "code",
   "execution_count": 17,
   "metadata": {
    "colab": {
     "base_uri": "https://localhost:8080/",
     "height": 68
    },
    "colab_type": "code",
    "id": "iu6dVD7PMgMC",
    "outputId": "8f79ea9e-a214-45db-9623-8339912cf5bd"
   },
   "outputs": [
    {
     "name": "stderr",
     "output_type": "stream",
     "text": [
      "/usr/local/lib/python3.6/dist-packages/umap/spectral.py:229: UserWarning: Embedding a total of 3 separate connected components using meta-embedding (experimental)\n",
      "  n_components\n"
     ]
    },
    {
     "data": {
      "text/plain": [
       "(1445, 2)"
      ]
     },
     "execution_count": 17,
     "metadata": {
      "tags": []
     },
     "output_type": "execute_result"
    }
   ],
   "source": [
    "emb1 = reducer.fit_transform(df1)\n",
    "emb1.shape"
   ]
  },
  {
   "cell_type": "code",
   "execution_count": 18,
   "metadata": {
    "colab": {
     "base_uri": "https://localhost:8080/",
     "height": 286
    },
    "colab_type": "code",
    "id": "x8mewQGJNi6K",
    "outputId": "60e21848-b854-4b58-be6f-9720fc419c48"
   },
   "outputs": [
    {
     "data": {
      "text/plain": [
       "<matplotlib.collections.PathCollection at 0x7fb245b30198>"
      ]
     },
     "execution_count": 18,
     "metadata": {
      "tags": []
     },
     "output_type": "execute_result"
    },
    {
     "data": {
      "image/png": "[encoded data removed]",
      "text/plain": [
       "<Figure size 432x288 with 1 Axes>"
      ]
     },
     "metadata": {
      "tags": []
     },
     "output_type": "display_data"
    }
   ],
   "source": [
    "plt.scatter(emb1[:, 0], emb1[:, 1], s = 1)"
   ]
  },
  {
   "cell_type": "markdown",
   "metadata": {
    "colab_type": "text",
    "id": "627qD92mUpxR"
   },
   "source": [
    "### Visita 2"
   ]
  },
  {
   "cell_type": "code",
   "execution_count": 19,
   "metadata": {
    "colab": {
     "base_uri": "https://localhost:8080/",
     "height": 68
    },
    "colab_type": "code",
    "id": "Tcm-9h0NSkL8",
    "outputId": "8071c217-6701-4e6b-c04a-f1374884fde8"
   },
   "outputs": [
    {
     "name": "stderr",
     "output_type": "stream",
     "text": [
      "/usr/local/lib/python3.6/dist-packages/umap/spectral.py:229: UserWarning: Embedding a total of 3 separate connected components using meta-embedding (experimental)\n",
      "  n_components\n"
     ]
    },
    {
     "data": {
      "text/plain": [
       "(1445, 2)"
      ]
     },
     "execution_count": 19,
     "metadata": {
      "tags": []
     },
     "output_type": "execute_result"
    }
   ],
   "source": [
    "df2 = dfv.loc[1:len(dfv):4]\n",
    "emb2 = reducer.fit_transform(df2)\n",
    "emb2.shape"
   ]
  },
  {
   "cell_type": "code",
   "execution_count": 20,
   "metadata": {
    "colab": {
     "base_uri": "https://localhost:8080/",
     "height": 286
    },
    "colab_type": "code",
    "id": "jShQ2HU0TMcL",
    "outputId": "e5fa38dc-c5a9-453f-a3d4-b2b1d9da3658"
   },
   "outputs": [
    {
     "data": {
      "text/plain": [
       "<matplotlib.collections.PathCollection at 0x7fb2430de518>"
      ]
     },
     "execution_count": 20,
     "metadata": {
      "tags": []
     },
     "output_type": "execute_result"
    },
    {
     "data": {
      "image/png": "[encoded data removed]",
      "text/plain": [
       "<Figure size 432x288 with 1 Axes>"
      ]
     },
     "metadata": {
      "tags": []
     },
     "output_type": "display_data"
    }
   ],
   "source": [
    "plt.scatter(emb2[:, 0], emb2[:, 1], s = 1)"
   ]
  },
  {
   "cell_type": "markdown",
   "metadata": {
    "colab_type": "text",
    "id": "91msGeAzcnB4"
   },
   "source": [
    "### Visita 3"
   ]
  },
  {
   "cell_type": "code",
   "execution_count": 21,
   "metadata": {
    "colab": {
     "base_uri": "https://localhost:8080/",
     "height": 68
    },
    "colab_type": "code",
    "id": "ljmIcQvvTOXE",
    "outputId": "17fdd01a-d4ac-4d8a-d3db-a7276a0d2b42"
   },
   "outputs": [
    {
     "name": "stderr",
     "output_type": "stream",
     "text": [
      "/usr/local/lib/python3.6/dist-packages/umap/spectral.py:229: UserWarning: Embedding a total of 3 separate connected components using meta-embedding (experimental)\n",
      "  n_components\n"
     ]
    },
    {
     "data": {
      "text/plain": [
       "(1445, 2)"
      ]
     },
     "execution_count": 21,
     "metadata": {
      "tags": []
     },
     "output_type": "execute_result"
    }
   ],
   "source": [
    "df3 = dfv.loc[2:len(dfv):4]\n",
    "emb3 = reducer.fit_transform(df3)\n",
    "emb3.shape"
   ]
  },
  {
   "cell_type": "code",
   "execution_count": 22,
   "metadata": {
    "colab": {
     "base_uri": "https://localhost:8080/",
     "height": 286
    },
    "colab_type": "code",
    "id": "vTVyXfQTcuLU",
    "outputId": "c5db71f9-3e5c-4976-d107-2a08a78c796c"
   },
   "outputs": [
    {
     "data": {
      "text/plain": [
       "<matplotlib.collections.PathCollection at 0x7fb245a43278>"
      ]
     },
     "execution_count": 22,
     "metadata": {
      "tags": []
     },
     "output_type": "execute_result"
    },
    {
     "data": {
      "image/png": "[encoded data removed]",
      "text/plain": [
       "<Figure size 432x288 with 1 Axes>"
      ]
     },
     "metadata": {
      "tags": []
     },
     "output_type": "display_data"
    }
   ],
   "source": [
    "plt.scatter(emb3[:, 0], emb3[:, 1], s = 1)"
   ]
  },
  {
   "cell_type": "markdown",
   "metadata": {
    "colab_type": "text",
    "id": "yWraSbzFc2Az"
   },
   "source": [
    "###Visita 4\n"
   ]
  },
  {
   "cell_type": "code",
   "execution_count": 23,
   "metadata": {
    "colab": {
     "base_uri": "https://localhost:8080/",
     "height": 68
    },
    "colab_type": "code",
    "id": "KzCqvx8pczBF",
    "outputId": "05e9068c-b3cc-453f-c364-1b112c4d6945"
   },
   "outputs": [
    {
     "name": "stderr",
     "output_type": "stream",
     "text": [
      "/usr/local/lib/python3.6/dist-packages/umap/spectral.py:229: UserWarning: Embedding a total of 2 separate connected components using meta-embedding (experimental)\n",
      "  n_components\n"
     ]
    },
    {
     "data": {
      "text/plain": [
       "(1445, 2)"
      ]
     },
     "execution_count": 23,
     "metadata": {
      "tags": []
     },
     "output_type": "execute_result"
    }
   ],
   "source": [
    "df4 = dfv.loc[3:len(dfv):4]\n",
    "emb4 = reducer.fit_transform(df4)\n",
    "emb4.shape"
   ]
  },
  {
   "cell_type": "code",
   "execution_count": 24,
   "metadata": {
    "colab": {
     "base_uri": "https://localhost:8080/",
     "height": 286
    },
    "colab_type": "code",
    "id": "dtIFygBXc_V8",
    "outputId": "e6db17cf-078d-4d6c-9bdf-5df0d80f55c3"
   },
   "outputs": [
    {
     "data": {
      "text/plain": [
       "<matplotlib.collections.PathCollection at 0x7fb2457beb70>"
      ]
     },
     "execution_count": 24,
     "metadata": {
      "tags": []
     },
     "output_type": "execute_result"
    },
    {
     "data": {
      "image/png": "[encoded data removed]",
      "text/plain": [
       "<Figure size 432x288 with 1 Axes>"
      ]
     },
     "metadata": {
      "tags": []
     },
     "output_type": "display_data"
    }
   ],
   "source": [
    "plt.scatter(emb4[:, 0], emb4[:, 1], s = 1)"
   ]
  },
  {
   "cell_type": "code",
   "execution_count": 0,
   "metadata": {
    "colab": {},
    "colab_type": "code",
    "id": "vteEtgWQdCsx"
   },
   "outputs": [],
   "source": []
  }
 ],
 "metadata": {
  "colab": {
   "collapsed_sections": [],
   "name": "test.ipynb",
   "provenance": [],
   "version": "0.3.2"
  },
  "kernelspec": {
   "display_name": "Python 3",
   "language": "python",
   "name": "python3"
  },
  "language_info": {
   "codemirror_mode": {
    "name": "ipython",
    "version": 3
   },
   "file_extension": ".py",
   "mimetype": "text/x-python",
   "name": "python",
   "nbconvert_exporter": "python",
   "pygments_lexer": "ipython3",
   "version": "3.7.3"
  }
 },
 "nbformat": 4,
 "nbformat_minor": 1
}
