{
 "cells": [
  {
   "cell_type": "code",
   "execution_count": null,
   "metadata": {
    "colab": {
     "base_uri": "https://localhost:8080/",
     "height": 153
    },
    "colab_type": "code",
    "id": "GZVc6VrsBfai",
    "outputId": "dbe7af94-ac03-4bc6-8504-42e4d8162929"
   },
   "outputs": [],
   "source": [
    "!pip install umap-learn"
   ]
  },
  {
   "cell_type": "code",
   "execution_count": null,
   "metadata": {
    "colab": {},
    "colab_type": "code",
    "id": "VUR4J3U2DBk1"
   },
   "outputs": [],
   "source": [
    "from __future__ import print_function\n",
    "import time\n",
    "import numpy as np\n",
    "import pandas as pd\n",
    "from sklearn.datasets import fetch_mldata\n",
    "from sklearn.decomposition import PCA\n",
    "from sklearn.manifold import TSNE\n",
    "%matplotlib inline\n",
    "import matplotlib.pyplot as plt\n",
    "from mpl_toolkits.mplot3d import Axes3D\n",
    "import seaborn as sns\n",
    "\n",
    "import umap\n",
    "import matplotlib"
   ]
  },
  {
   "cell_type": "code",
   "execution_count": null,
   "metadata": {
    "colab": {
     "base_uri": "https://localhost:8080/",
     "height": 34
    },
    "colab_type": "code",
    "id": "v-jNxOtFDQd5",
    "outputId": "d8387962-46f2-4ea9-be94-beee10320d02"
   },
   "outputs": [],
   "source": [
    "from google.colab import drive\n",
    "drive.mount('/data', force_remount=True)"
   ]
  },
  {
   "cell_type": "code",
   "execution_count": null,
   "metadata": {
    "colab": {
     "base_uri": "https://localhost:8080/",
     "height": 71
    },
    "colab_type": "code",
    "id": "motMLm6mDqXQ",
    "outputId": "cdcbf507-b1c0-496f-82fa-aab44a8f18bb"
   },
   "outputs": [],
   "source": [
    "p = \"/data/My Drive/Data visualization/MILANO_DATA.csv\"\n",
    "df =  pd.read_csv(p)"
   ]
  },
  {
   "cell_type": "code",
   "execution_count": null,
   "metadata": {
    "colab": {
     "base_uri": "https://localhost:8080/",
     "height": 542
    },
    "colab_type": "code",
    "id": "KoxGYRPYJ9Kc",
    "outputId": "fde8cf8f-0a8d-40ac-bcb4-3f5d6e0f275e"
   },
   "outputs": [],
   "source": [
    "df.head()"
   ]
  },
  {
   "cell_type": "markdown",
   "metadata": {
    "colab_type": "text",
    "id": "vORlykTGHKAs"
   },
   "source": [
    "## To find string"
   ]
  },
  {
   "cell_type": "code",
   "execution_count": null,
   "metadata": {
    "colab": {},
    "colab_type": "code",
    "id": "0cYjd-P1GM22"
   },
   "outputs": [],
   "source": [
    "dfs = df.select_dtypes(include = 'object')"
   ]
  },
  {
   "cell_type": "code",
   "execution_count": null,
   "metadata": {
    "colab": {
     "base_uri": "https://localhost:8080/",
     "height": 578
    },
    "colab_type": "code",
    "id": "Dao3th2yHhN5",
    "outputId": "bd564102-2f09-45b7-c84d-95426b3a634f"
   },
   "outputs": [],
   "source": [
    "print(dfs.columns.values)"
   ]
  },
  {
   "cell_type": "markdown",
   "metadata": {
    "colab_type": "text",
    "id": "i1ZkY0-9HiIN"
   },
   "source": [
    "## To find validate data"
   ]
  },
  {
   "cell_type": "code",
   "execution_count": null,
   "metadata": {
    "colab": {},
    "colab_type": "code",
    "id": "8AmayYY0chtV"
   },
   "outputs": [],
   "source": [
    "l = ['int16', 'int32' , 'int64', 'float16', 'float32', 'float64']\n",
    "\n",
    "dfv = df.select_dtypes(include = l)"
   ]
  },
  {
   "cell_type": "code",
   "execution_count": null,
   "metadata": {
    "colab": {
     "base_uri": "https://localhost:8080/",
     "height": 304
    },
    "colab_type": "code",
    "id": "XYRlrSHjLjIc",
    "outputId": "be0dfedc-7180-4e62-8ba2-222e8526ee19"
   },
   "outputs": [],
   "source": [
    "dfv.head()"
   ]
  },
  {
   "cell_type": "code",
   "execution_count": null,
   "metadata": {
    "colab": {
     "base_uri": "https://localhost:8080/",
     "height": 748
    },
    "colab_type": "code",
    "id": "EgCQXM9rdpzX",
    "outputId": "986d555d-eef4-48d6-ac3c-c5ff28c5a03e"
   },
   "outputs": [],
   "source": [
    "print(dfv.columns.values)"
   ]
  },
  {
   "cell_type": "markdown",
   "metadata": {
    "colab_type": "text",
    "id": "DUC9WX81QF6F"
   },
   "source": [
    "### Data veiw"
   ]
  },
  {
   "cell_type": "code",
   "execution_count": null,
   "metadata": {
    "colab": {},
    "colab_type": "code",
    "id": "NrHL8zQMexpd"
   },
   "outputs": [],
   "source": [
    "reducer = umap.UMAP()"
   ]
  },
  {
   "cell_type": "code",
   "execution_count": null,
   "metadata": {
    "colab": {
     "base_uri": "https://localhost:8080/",
     "height": 68
    },
    "colab_type": "code",
    "id": "0gWJ4LyyUu_A",
    "outputId": "3e6481bb-9b5f-4c5e-a51f-deb48db5262b"
   },
   "outputs": [],
   "source": [
    "emb = reducer.fit_transform(dfv)\n",
    "emb.shape"
   ]
  },
  {
   "cell_type": "code",
   "execution_count": null,
   "metadata": {
    "colab": {},
    "colab_type": "code",
    "id": "r0d9hw2RZVCZ"
   },
   "outputs": [],
   "source": [
    "label = []\n",
    "i = 1\n",
    "for x in range(len(dfv)):\n",
    "  if i > 5:\n",
    "    i = 1\n",
    "  label.append(i)\n",
    "  i = i + 1"
   ]
  },
  {
   "cell_type": "code",
   "execution_count": null,
   "metadata": {
    "colab": {},
    "colab_type": "code",
    "id": "75xRjnXJalpd"
   },
   "outputs": [],
   "source": [
    "colors = ['red','blue','purple','yellow']"
   ]
  },
  {
   "cell_type": "code",
   "execution_count": null,
   "metadata": {
    "colab": {
     "base_uri": "https://localhost:8080/",
     "height": 286
    },
    "colab_type": "code",
    "id": "lBuel4VbVGdb",
    "outputId": "c3db3557-7efb-450b-d7f4-5f4f8d39ba04"
   },
   "outputs": [],
   "source": [
    "plt.scatter(emb[:, 0], emb[:, 1],c=label, cmap=matplotlib.colors.ListedColormap(colors), s = 1)"
   ]
  },
  {
   "cell_type": "markdown",
   "metadata": {
    "colab_type": "text",
    "id": "MvA0h-I7UkPM"
   },
   "source": [
    "### Visita 1"
   ]
  },
  {
   "cell_type": "code",
   "execution_count": null,
   "metadata": {
    "colab": {},
    "colab_type": "code",
    "id": "5QxfEkzuSrgM"
   },
   "outputs": [],
   "source": [
    "df1 = dfv.loc[:len(dfv):4]"
   ]
  },
  {
   "cell_type": "code",
   "execution_count": null,
   "metadata": {
    "colab": {
     "base_uri": "https://localhost:8080/",
     "height": 34
    },
    "colab_type": "code",
    "id": "iu6dVD7PMgMC",
    "outputId": "abbcca59-da5d-4a3d-a744-90f035d3fd71"
   },
   "outputs": [],
   "source": [
    "emb1 = reducer.fit_transform(df1)\n",
    "emb1.shape"
   ]
  },
  {
   "cell_type": "code",
   "execution_count": null,
   "metadata": {
    "colab": {
     "base_uri": "https://localhost:8080/",
     "height": 286
    },
    "colab_type": "code",
    "id": "x8mewQGJNi6K",
    "outputId": "a85382c4-4e11-472d-b814-6abc523e9a65"
   },
   "outputs": [],
   "source": [
    "plt.scatter(emb1[:, 0], emb1[:, 1], s = 1)"
   ]
  },
  {
   "cell_type": "markdown",
   "metadata": {
    "colab_type": "text",
    "id": "627qD92mUpxR"
   },
   "source": [
    "### Visita 2"
   ]
  },
  {
   "cell_type": "code",
   "execution_count": null,
   "metadata": {
    "colab": {
     "base_uri": "https://localhost:8080/",
     "height": 34
    },
    "colab_type": "code",
    "id": "Tcm-9h0NSkL8",
    "outputId": "c43eb9ba-c1be-4a5a-a06b-06bc462efb17"
   },
   "outputs": [],
   "source": [
    "df2 = dfv.loc[1:len(dfv):4]\n",
    "emb2 = reducer.fit_transform(df2)\n",
    "emb2.shape"
   ]
  },
  {
   "cell_type": "code",
   "execution_count": null,
   "metadata": {
    "colab": {
     "base_uri": "https://localhost:8080/",
     "height": 286
    },
    "colab_type": "code",
    "id": "jShQ2HU0TMcL",
    "outputId": "f4a4c10a-e791-4a78-9608-258ebe3d2272"
   },
   "outputs": [],
   "source": [
    "plt.scatter(emb2[:, 0], emb2[:, 1], s = 1)"
   ]
  },
  {
   "cell_type": "markdown",
   "metadata": {
    "colab_type": "text",
    "id": "91msGeAzcnB4"
   },
   "source": [
    "### Visita 3"
   ]
  },
  {
   "cell_type": "code",
   "execution_count": null,
   "metadata": {
    "colab": {
     "base_uri": "https://localhost:8080/",
     "height": 34
    },
    "colab_type": "code",
    "id": "ljmIcQvvTOXE",
    "outputId": "445db45f-4bbe-4f4f-fa41-39e8c6a955af"
   },
   "outputs": [],
   "source": [
    "df3 = dfv.loc[2:len(dfv):4]\n",
    "emb3 = reducer.fit_transform(df3)\n",
    "emb3.shape"
   ]
  },
  {
   "cell_type": "code",
   "execution_count": null,
   "metadata": {
    "colab": {
     "base_uri": "https://localhost:8080/",
     "height": 286
    },
    "colab_type": "code",
    "id": "vTVyXfQTcuLU",
    "outputId": "f90e4ee6-6a96-442d-b548-724cb59386a8"
   },
   "outputs": [],
   "source": [
    "plt.scatter(emb3[:, 0], emb3[:, 1], s = 1)"
   ]
  },
  {
   "cell_type": "markdown",
   "metadata": {
    "colab_type": "text",
    "id": "yWraSbzFc2Az"
   },
   "source": [
    "###Visita 4\n"
   ]
  },
  {
   "cell_type": "code",
   "execution_count": null,
   "metadata": {
    "colab": {
     "base_uri": "https://localhost:8080/",
     "height": 68
    },
    "colab_type": "code",
    "id": "KzCqvx8pczBF",
    "outputId": "2178b2c5-97d3-4bfc-dabd-057639d60399"
   },
   "outputs": [],
   "source": [
    "df4 = dfv.loc[3:len(dfv):4]\n",
    "emb4 = reducer.fit_transform(df4)\n",
    "emb4.shape"
   ]
  },
  {
   "cell_type": "code",
   "execution_count": null,
   "metadata": {
    "colab": {
     "base_uri": "https://localhost:8080/",
     "height": 286
    },
    "colab_type": "code",
    "id": "dtIFygBXc_V8",
    "outputId": "e840358f-41e1-4bf9-f581-5064235c4feb"
   },
   "outputs": [],
   "source": [
    "plt.scatter(emb4[:, 0], emb4[:, 1], s = 1)"
   ]
  },
  {
   "cell_type": "code",
   "execution_count": null,
   "metadata": {
    "colab": {},
    "colab_type": "code",
    "id": "vteEtgWQdCsx"
   },
   "outputs": [],
   "source": []
  }
 ],
 "metadata": {
  "colab": {
   "collapsed_sections": [],
   "name": "test.ipynb",
   "provenance": [],
   "version": "0.3.2"
  },
  "kernelspec": {
   "display_name": "Python 3",
   "language": "python",
   "name": "python3"
  },
  "language_info": {
   "codemirror_mode": {
    "name": "ipython",
    "version": 3
   },
   "file_extension": ".py",
   "mimetype": "text/x-python",
   "name": "python",
   "nbconvert_exporter": "python",
   "pygments_lexer": "ipython3",
   "version": "3.7.3"
  }
 },
 "nbformat": 4,
 "nbformat_minor": 1
}
