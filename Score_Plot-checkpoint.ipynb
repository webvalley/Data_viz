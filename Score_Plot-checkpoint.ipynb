{
 "cells": [
  {
   "cell_type": "code",
   "execution_count": null,
   "metadata": {
    "colab": {
     "base_uri": "https://localhost:8080/",
     "height": 136
    },
    "colab_type": "code",
    "id": "DOJ8_iWBQzYJ",
    "outputId": "bc6c15d9-8b84-4ed9-8bae-e322d3e5cc74"
   },
   "outputs": [],
   "source": [
    "!pip install umap-learn"
   ]
  },
  {
   "cell_type": "code",
   "execution_count": null,
   "metadata": {
    "colab": {},
    "colab_type": "code",
    "id": "bttV7281Q1V2"
   },
   "outputs": [],
   "source": [
    "from __future__ import print_function\n",
    "import time\n",
    "import numpy as np\n",
    "import pandas as pd\n",
    "from sklearn.datasets import fetch_mldata\n",
    "from sklearn.decomposition import PCA\n",
    "from sklearn.manifold import TSNE\n",
    "%matplotlib inline\n",
    "import matplotlib.pyplot as plt\n",
    "from mpl_toolkits.mplot3d import Axes3D\n",
    "import seaborn as sns\n",
    "\n",
    "import umap\n",
    "import matplotlib\n"
   ]
  },
  {
   "cell_type": "code",
   "execution_count": null,
   "metadata": {
    "colab": {
     "base_uri": "https://localhost:8080/",
     "height": 34
    },
    "colab_type": "code",
    "id": "D4fcDA-vQ47G",
    "outputId": "07f7150b-23f6-486c-b0fe-f346fb22cbdf"
   },
   "outputs": [],
   "source": [
    "from google.colab import drive\n",
    "drive.mount('/data', force_remount=True)"
   ]
  },
  {
   "cell_type": "code",
   "execution_count": null,
   "metadata": {
    "colab": {
     "base_uri": "https://localhost:8080/",
     "height": 71
    },
    "colab_type": "code",
    "id": "DmWVE_jpRDRJ",
    "outputId": "401b2cf0-b68a-4673-befc-c5f61a41de6e"
   },
   "outputs": [],
   "source": [
    "p = \"/data/My Drive/Data visualization/MILANO_DATA.csv\"\n",
    "df =  pd.read_csv(p)"
   ]
  },
  {
   "cell_type": "code",
   "execution_count": null,
   "metadata": {
    "colab": {},
    "colab_type": "code",
    "id": "gu6WhooSRCPH"
   },
   "outputs": [],
   "source": [
    "l = ['int16', 'int32' , 'int64', 'float16', 'float32', 'float64']\n",
    "\n",
    "dfv = df.select_dtypes(include = l)\n",
    "\n",
    "lc = ['age','gender','smoking','total cholesterol','pas']\n"
   ]
  },
  {
   "cell_type": "markdown",
   "metadata": {
    "colab_type": "text",
    "id": "vocYX-GlvvY1"
   },
   "source": [
    "###Visualisation"
   ]
  },
  {
   "cell_type": "code",
   "execution_count": null,
   "metadata": {
    "colab": {
     "base_uri": "https://localhost:8080/",
     "height": 304
    },
    "colab_type": "code",
    "id": "xmIBcaPDR3-5",
    "outputId": "ab5b1180-2403-4e82-f100-69b3065fa4df"
   },
   "outputs": [],
   "source": [
    "dfv.loc[:len(dfv):4].head()"
   ]
  },
  {
   "cell_type": "markdown",
   "metadata": {
    "colab_type": "text",
    "id": "FNQjDzNzhyu2"
   },
   "source": [
    "**New df**"
   ]
  },
  {
   "cell_type": "code",
   "execution_count": null,
   "metadata": {
    "colab": {},
    "colab_type": "code",
    "id": "27eauf_bScbA"
   },
   "outputs": [],
   "source": [
    "reducer = umap.UMAP()"
   ]
  },
  {
   "cell_type": "code",
   "execution_count": null,
   "metadata": {
    "colab": {},
    "colab_type": "code",
    "id": "SVqCiNj9oBqX"
   },
   "outputs": [],
   "source": [
    "label = df['SCORE']\n",
    "label = list(label)\n",
    "l = []\n",
    "for x in label:\n",
    "  if x < 1:\n",
    "    l.append(0)\n",
    "  elif x < 2 and x >1:\n",
    "    l.append(1)\n",
    "  elif x < 5 and x >2:\n",
    "    l.append(2)\n",
    "  else:\n",
    "    l.append(3)\n",
    "colors = ['green','yellow','red','purple']"
   ]
  },
  {
   "cell_type": "code",
   "execution_count": null,
   "metadata": {
    "colab": {
     "base_uri": "https://localhost:8080/",
     "height": 1000
    },
    "colab_type": "code",
    "id": "RlBqXJlOiC3R",
    "outputId": "cd97a6a7-4696-4838-a770-0d6b618d0203"
   },
   "outputs": [],
   "source": [
    "for el in lc:\n",
    "  for er in lc:\n",
    "    lt = [el,er]\n",
    "    plt.scatter(dfv[el], dfv[er] , s = 1,c = l, cmap=matplotlib.colors.ListedColormap(colors))\n",
    "    plt.ylabel(er)\n",
    "    plt.xlabel(el)\n",
    "    plt.title(\"Grafico \" + el + \" \"+ er)\n",
    "    plt.show()\n"
   ]
  },
  {
   "cell_type": "code",
   "execution_count": null,
   "metadata": {
    "colab": {},
    "colab_type": "code",
    "id": "4qDUmsxQjxDs"
   },
   "outputs": [],
   "source": []
  }
 ],
 "metadata": {
  "colab": {
   "collapsed_sections": [],
   "name": "Score  Plot.ipynb",
   "provenance": [],
   "toc_visible": true,
   "version": "0.3.2"
  },
  "kernelspec": {
   "display_name": "Python 3",
   "language": "python",
   "name": "python3"
  },
  "language_info": {
   "codemirror_mode": {
    "name": "ipython",
    "version": 3
   },
   "file_extension": ".py",
   "mimetype": "text/x-python",
   "name": "python",
   "nbconvert_exporter": "python",
   "pygments_lexer": "ipython3",
   "version": "3.7.3"
  }
 },
 "nbformat": 4,
 "nbformat_minor": 1
}
