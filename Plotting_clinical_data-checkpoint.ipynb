{
 "cells": [
  {
   "cell_type": "markdown",
   "metadata": {
    "colab_type": "text",
    "id": "U-6kP6UQyuYx"
   },
   "source": [
    "Plotting clinical data"
   ]
  },
  {
   "cell_type": "code",
   "execution_count": null,
   "metadata": {
    "colab": {},
    "colab_type": "code",
    "id": "kJNzNf-CyuYy",
    "outputId": "5d6c02fb-b422-4e4b-f931-41c046498dcd",
    "scrolled": true
   },
   "outputs": [],
   "source": [
    "from bokeh.plotting import figure, output_notebook, show\n",
    "output_notebook()\n",
    "from bokeh.models import ColumnDataSource\n",
    "import pandas as pd\n"
   ]
  },
  {
   "cell_type": "markdown",
   "metadata": {
    "colab_type": "text",
    "id": "bO9TTX4SyuY5"
   },
   "source": [
    "Correlation between age and systolic pressure"
   ]
  },
  {
   "cell_type": "code",
   "execution_count": null,
   "metadata": {
    "colab": {},
    "colab_type": "code",
    "id": "LT4v896yyuY6",
    "outputId": "0db7232d-9756-43b9-ef3d-0b4b267ba9af",
    "scrolled": true
   },
   "outputs": [],
   "source": [
    "pressure = pd.DataFrame.from_csv ('/home/student/Downloads/PLIC_dataset parametri clinici_V1_V2_V3_V4_1445.csv',0,'\\t')"
   ]
  },
  {
   "cell_type": "code",
   "execution_count": null,
   "metadata": {
    "colab": {},
    "colab_type": "code",
    "id": "jgNLp79jyuY-",
    "outputId": "bd924775-3e13-46c5-d86f-4d1bb6e28fad",
    "scrolled": true
   },
   "outputs": [],
   "source": [
    "source = ColumnDataSource(pressure)\n",
    "\n",
    "p = figure(plot_width=400, plot_height=400, title=\"Visit 1 - Correlation between age and systolic pressure\", x_axis_label='age', y_axis_label='pressure')\n",
    "\n",
    "# add a circle renderer with a size, color, and alpha\n",
    "p.circle('età_1', 'pas_1', size=1, color=\"navy\", alpha=0.5, source=source)\n",
    "\n",
    "# show the results\n",
    "show(p)"
   ]
  },
  {
   "cell_type": "markdown",
   "metadata": {
    "colab_type": "text",
    "id": "05WHDVmwyuZI"
   },
   "source": [
    "Plot age-LDL"
   ]
  },
  {
   "cell_type": "code",
   "execution_count": null,
   "metadata": {
    "colab": {},
    "colab_type": "code",
    "id": "FcH95t9iyuZJ",
    "outputId": "9bee4877-d0ef-4feb-db09-d65a15bd484c"
   },
   "outputs": [],
   "source": [
    "ldl = pd.DataFrame.from_csv('/home/student/Downloads/PLIC_dataset parametri clinici_V1_V2_V3_V4_1445.csv',0,'\\t')"
   ]
  },
  {
   "cell_type": "code",
   "execution_count": null,
   "metadata": {
    "colab": {},
    "colab_type": "code",
    "id": "SKmEYe9pyuZM",
    "outputId": "ec3890d7-31ae-411b-d89f-351c30bc8f1a"
   },
   "outputs": [],
   "source": [
    "source = ColumnDataSource(ldl)\n",
    "\n",
    "p = figure(plot_width=400, plot_height=400, title=\"Visit 1 - Correlation between age and LDL\", x_axis_label='age', y_axis_label='LDL')\n",
    "\n",
    "# add a circle renderer with a size, color, and alpha\n",
    "p.circle('età_1', 'LDL_calc_1', size=1, color=\"navy\", alpha=0.5, source=source)\n",
    "\n",
    "# show the results\n",
    "show(p)"
   ]
  },
  {
   "cell_type": "markdown",
   "metadata": {
    "colab_type": "text",
    "id": "vzkIGm3jyuZX"
   },
   "source": [
    "Correlation between LDL and pressure"
   ]
  },
  {
   "cell_type": "code",
   "execution_count": null,
   "metadata": {
    "colab": {},
    "colab_type": "code",
    "id": "pW6GafbYyuZX",
    "outputId": "1fca2150-5a88-4006-e8d8-846155441683",
    "scrolled": true
   },
   "outputs": [],
   "source": [
    "pressure = pd.DataFrame.from_csv ('/home/student/Downloads/PLIC_dataset parametri clinici_V1_V2_V3_V4_1445.csv',0,'\\t')"
   ]
  },
  {
   "cell_type": "code",
   "execution_count": null,
   "metadata": {
    "colab": {},
    "colab_type": "code",
    "id": "xSYi_DaoyuZb",
    "outputId": "6f2d213f-e16e-4990-ad6e-3ae2bc4473e1",
    "scrolled": false
   },
   "outputs": [],
   "source": [
    "source = ColumnDataSource(pressure)\n",
    "\n",
    "p = figure(plot_width=400, plot_height=400, title=\"Visit 1 - Correlation between LDL and pressure\", x_axis_label='LDL', y_axis_label='systolic pressure')\n",
    "\n",
    "# add a circle renderer with a size, color, and alpha\n",
    "p.circle('LDL_calc_1','pas_1', size=2, color=\"navy\", alpha=0.5, source=source)\n",
    "\n",
    "# show the results\n",
    "show(p)"
   ]
  }
 ],
 "metadata": {
  "colab": {
   "name": "Plotting clinical data.ipynb",
   "provenance": [],
   "version": "0.3.2"
  },
  "kernelspec": {
   "display_name": "Python 3",
   "language": "python",
   "name": "python3"
  },
  "language_info": {
   "codemirror_mode": {
    "name": "ipython",
    "version": 3
   },
   "file_extension": ".py",
   "mimetype": "text/x-python",
   "name": "python",
   "nbconvert_exporter": "python",
   "pygments_lexer": "ipython3",
   "version": "3.7.3"
  }
 },
 "nbformat": 4,
 "nbformat_minor": 1
}
