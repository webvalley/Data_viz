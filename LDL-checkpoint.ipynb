{
 "cells": [
  {
   "cell_type": "code",
   "execution_count": null,
   "metadata": {
    "colab": {
     "base_uri": "https://localhost:8080/",
     "height": 136
    },
    "colab_type": "code",
    "id": "DOJ8_iWBQzYJ",
    "outputId": "72fb3e5b-61e4-419c-8c24-a529abc55d70"
   },
   "outputs": [],
   "source": [
    "!pip install umap-learn"
   ]
  },
  {
   "cell_type": "code",
   "execution_count": null,
   "metadata": {
    "colab": {},
    "colab_type": "code",
    "id": "bttV7281Q1V2"
   },
   "outputs": [],
   "source": [
    "from __future__ import print_function\n",
    "import time\n",
    "import numpy as np\n",
    "import pandas as pd\n",
    "from sklearn.datasets import fetch_mldata\n",
    "from sklearn.decomposition import PCA\n",
    "from sklearn.manifold import TSNE\n",
    "%matplotlib inline\n",
    "import matplotlib.pyplot as plt\n",
    "from mpl_toolkits.mplot3d import Axes3D\n",
    "import seaborn as sns\n",
    "\n",
    "import umap\n",
    "import matplotlib\n"
   ]
  },
  {
   "cell_type": "code",
   "execution_count": null,
   "metadata": {
    "colab": {
     "base_uri": "https://localhost:8080/",
     "height": 34
    },
    "colab_type": "code",
    "id": "D4fcDA-vQ47G",
    "outputId": "77f96cec-4906-4e32-cc7b-1c3c77196b96"
   },
   "outputs": [],
   "source": [
    "from google.colab import drive\n",
    "drive.mount('/data', force_remount=True)"
   ]
  },
  {
   "cell_type": "code",
   "execution_count": null,
   "metadata": {
    "colab": {
     "base_uri": "https://localhost:8080/",
     "height": 71
    },
    "colab_type": "code",
    "id": "DmWVE_jpRDRJ",
    "outputId": "dbd0a744-21ee-4e6e-f2ea-e05bfcf9e890"
   },
   "outputs": [],
   "source": [
    "p = \"/data/My Drive/Data visualization/MILANO_DATA.csv\"\n",
    "df =  pd.read_csv(p)"
   ]
  },
  {
   "cell_type": "code",
   "execution_count": null,
   "metadata": {
    "colab": {},
    "colab_type": "code",
    "id": "gu6WhooSRCPH"
   },
   "outputs": [],
   "source": [
    "l = ['int16', 'int32' , 'int64', 'float16', 'float32', 'float64']\n",
    "\n",
    "dfv = df.select_dtypes(include = l)"
   ]
  },
  {
   "cell_type": "markdown",
   "metadata": {
    "colab_type": "text",
    "id": "H9nSzeJ2dl8Z"
   },
   "source": [
    "### del LDL"
   ]
  },
  {
   "cell_type": "code",
   "execution_count": null,
   "metadata": {
    "colab": {},
    "colab_type": "code",
    "id": "Z-iD-cqNQ7YD"
   },
   "outputs": [],
   "source": [
    "dfv = dfv.drop(['LDL calc', 'SCORE'], axis=1)"
   ]
  },
  {
   "cell_type": "code",
   "execution_count": null,
   "metadata": {
    "colab": {
     "base_uri": "https://localhost:8080/",
     "height": 304
    },
    "colab_type": "code",
    "id": "xmIBcaPDR3-5",
    "outputId": "b0148555-b786-4183-c9d5-1847c591f1a1"
   },
   "outputs": [],
   "source": [
    "dfv.loc[:len(dfv):4].head()"
   ]
  },
  {
   "cell_type": "markdown",
   "metadata": {
    "colab_type": "text",
    "id": "FNQjDzNzhyu2"
   },
   "source": [
    "**New df**"
   ]
  },
  {
   "cell_type": "code",
   "execution_count": null,
   "metadata": {
    "colab": {},
    "colab_type": "code",
    "id": "27eauf_bScbA"
   },
   "outputs": [],
   "source": [
    "reducer = umap.UMAP()"
   ]
  },
  {
   "cell_type": "code",
   "execution_count": null,
   "metadata": {
    "colab": {
     "base_uri": "https://localhost:8080/",
     "height": 68
    },
    "colab_type": "code",
    "id": "RlBqXJlOiC3R",
    "outputId": "cd322a84-d80d-4937-ca6e-0f8d32523080"
   },
   "outputs": [],
   "source": [
    "emb = reducer.fit_transform(dfv)\n",
    "emb.shape"
   ]
  },
  {
   "cell_type": "code",
   "execution_count": null,
   "metadata": {
    "colab": {},
    "colab_type": "code",
    "id": "1mh6SQBKiF2e"
   },
   "outputs": [],
   "source": [
    "label = df['LDL calc']\n",
    "label = list(label)"
   ]
  },
  {
   "cell_type": "code",
   "execution_count": null,
   "metadata": {
    "colab": {},
    "colab_type": "code",
    "id": "tpH8G24Cjb6N"
   },
   "outputs": [],
   "source": [
    "l = []\n",
    "for x in label:\n",
    "  if x < 200:\n",
    "    l.append(0)\n",
    "  else:\n",
    "    l.append(1)"
   ]
  },
  {
   "cell_type": "code",
   "execution_count": null,
   "metadata": {
    "colab": {},
    "colab_type": "code",
    "id": "aiXok26ajdrW"
   },
   "outputs": [],
   "source": [
    "colors = ['yellow','blue']"
   ]
  },
  {
   "cell_type": "code",
   "execution_count": null,
   "metadata": {
    "colab": {
     "base_uri": "https://localhost:8080/",
     "height": 303
    },
    "colab_type": "code",
    "id": "kneWiZfBkyGB",
    "outputId": "aadbe6be-b820-4e9f-c90a-0dfafad1438d"
   },
   "outputs": [],
   "source": [
    "plt.scatter(emb[:, 0], emb[:, 1],c=l, cmap=matplotlib.colors.ListedColormap(colors), s = 1)"
   ]
  },
  {
   "cell_type": "markdown",
   "metadata": {
    "colab_type": "text",
    "id": "b-RfMPUPmBIR"
   },
   "source": [
    "**Vista 1**"
   ]
  },
  {
   "cell_type": "code",
   "execution_count": null,
   "metadata": {
    "colab": {},
    "colab_type": "code",
    "id": "1OmGrTF7mm6o"
   },
   "outputs": [],
   "source": [
    "l1 = l [::4]"
   ]
  },
  {
   "cell_type": "code",
   "execution_count": null,
   "metadata": {
    "colab": {
     "base_uri": "https://localhost:8080/",
     "height": 54
    },
    "colab_type": "code",
    "id": "voGr6r0EofZk",
    "outputId": "c9d3cd0e-0dd5-4d44-aabc-bd30471216ca"
   },
   "outputs": [],
   "source": [
    "print(l1)"
   ]
  },
  {
   "cell_type": "code",
   "execution_count": null,
   "metadata": {
    "colab": {},
    "colab_type": "code",
    "id": "FkuP3vwwlI4C"
   },
   "outputs": [],
   "source": [
    "df1 = dfv.loc[:len(dfv):4]\n",
    "emb1 = reducer.fit_transform(df1)"
   ]
  },
  {
   "cell_type": "code",
   "execution_count": null,
   "metadata": {
    "colab": {
     "base_uri": "https://localhost:8080/",
     "height": 286
    },
    "colab_type": "code",
    "id": "akfs9D2bmEqH",
    "outputId": "d6a2f530-8b5d-4ee9-a0fb-ddc4f0d5ee39"
   },
   "outputs": [],
   "source": [
    "plt.scatter(emb1[:, 0], emb1[:, 1], c = l1 , cmap=matplotlib.colors.ListedColormap(colors), s = 1)"
   ]
  },
  {
   "cell_type": "markdown",
   "metadata": {
    "colab_type": "text",
    "id": "xHrXrgbNnczQ"
   },
   "source": [
    "**Visita 2**"
   ]
  },
  {
   "cell_type": "code",
   "execution_count": null,
   "metadata": {
    "colab": {},
    "colab_type": "code",
    "id": "wfnwedmpmfPf"
   },
   "outputs": [],
   "source": [
    "l2 = l [1::4]\n",
    "df2 = dfv.loc[1:len(dfv):4]\n",
    "emb2 = reducer.fit_transform(df2)"
   ]
  },
  {
   "cell_type": "code",
   "execution_count": null,
   "metadata": {
    "colab": {
     "base_uri": "https://localhost:8080/",
     "height": 54
    },
    "colab_type": "code",
    "id": "_F-i4dsxoc7U",
    "outputId": "c9c13a65-2566-41c7-98e5-c33999d6fb46"
   },
   "outputs": [],
   "source": [
    "print(l2)"
   ]
  },
  {
   "cell_type": "code",
   "execution_count": null,
   "metadata": {
    "colab": {
     "base_uri": "https://localhost:8080/",
     "height": 286
    },
    "colab_type": "code",
    "id": "3FJ4oNx0n51A",
    "outputId": "07dc69fc-e5cb-41d0-e81c-f02c516c4c84"
   },
   "outputs": [],
   "source": [
    "plt.scatter(emb2[:, 0], emb2[:, 1], c = l2 , cmap=matplotlib.colors.ListedColormap(colors), s = 1)"
   ]
  },
  {
   "cell_type": "markdown",
   "metadata": {
    "colab_type": "text",
    "id": "aYFc1QMQoxS0"
   },
   "source": [
    "**Visita 3**"
   ]
  },
  {
   "cell_type": "code",
   "execution_count": null,
   "metadata": {
    "colab": {},
    "colab_type": "code",
    "id": "fhZGdTDen-hi"
   },
   "outputs": [],
   "source": [
    "l3 = l [2::4]\n",
    "df3 = dfv.loc[2:len(dfv):4]\n",
    "emb3 = reducer.fit_transform(df3)"
   ]
  },
  {
   "cell_type": "code",
   "execution_count": null,
   "metadata": {
    "colab": {
     "base_uri": "https://localhost:8080/",
     "height": 286
    },
    "colab_type": "code",
    "id": "UjGN2JLfo4Yz",
    "outputId": "2edf98e1-e3a6-472c-b7ec-5f27925e8fc2"
   },
   "outputs": [],
   "source": [
    "plt.scatter(emb3[:, 0], emb3[:, 1], c = l3 , cmap=matplotlib.colors.ListedColormap(colors), s = 1)"
   ]
  },
  {
   "cell_type": "markdown",
   "metadata": {
    "colab_type": "text",
    "id": "Q51DqcTgpRTM"
   },
   "source": [
    "**Visita 4**"
   ]
  },
  {
   "cell_type": "code",
   "execution_count": null,
   "metadata": {
    "colab": {
     "base_uri": "https://localhost:8080/",
     "height": 51
    },
    "colab_type": "code",
    "id": "2-kyXql2o81k",
    "outputId": "ef98a996-cc17-4da8-857f-36a58829c908"
   },
   "outputs": [],
   "source": [
    "l4 = l [3::4]\n",
    "df4 = dfv.loc[3:len(dfv):4]\n",
    "emb4 = reducer.fit_transform(df4)"
   ]
  },
  {
   "cell_type": "code",
   "execution_count": null,
   "metadata": {
    "colab": {
     "base_uri": "https://localhost:8080/",
     "height": 286
    },
    "colab_type": "code",
    "id": "mIhuKs0zpaQ7",
    "outputId": "38a2b24e-5030-4b52-d541-9e80859ddfc6"
   },
   "outputs": [],
   "source": [
    "plt.scatter(emb4[:, 0], emb4[:, 1], c = l4 , cmap=matplotlib.colors.ListedColormap(colors), s = 1)"
   ]
  },
  {
   "cell_type": "code",
   "execution_count": null,
   "metadata": {
    "colab": {},
    "colab_type": "code",
    "id": "g_7rWgSwpkSS"
   },
   "outputs": [],
   "source": []
  }
 ],
 "metadata": {
  "colab": {
   "collapsed_sections": [],
   "name": "LDL.ipynb",
   "provenance": [],
   "toc_visible": true,
   "version": "0.3.2"
  },
  "kernelspec": {
   "display_name": "Python 3",
   "language": "python",
   "name": "python3"
  },
  "language_info": {
   "codemirror_mode": {
    "name": "ipython",
    "version": 3
   },
   "file_extension": ".py",
   "mimetype": "text/x-python",
   "name": "python",
   "nbconvert_exporter": "python",
   "pygments_lexer": "ipython3",
   "version": "3.7.3"
  }
 },
 "nbformat": 4,
 "nbformat_minor": 1
}
