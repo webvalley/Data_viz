{
 "cells": [
  {
   "cell_type": "code",
   "execution_count": null,
   "metadata": {
    "colab": {
     "base_uri": "https://localhost:8080/",
     "height": 136
    },
    "colab_type": "code",
    "id": "DOJ8_iWBQzYJ",
    "outputId": "757fc1a3-4e76-4e95-aabe-62157419931b"
   },
   "outputs": [],
   "source": [
    "!pip install umap-learn"
   ]
  },
  {
   "cell_type": "code",
   "execution_count": null,
   "metadata": {
    "colab": {},
    "colab_type": "code",
    "id": "bttV7281Q1V2"
   },
   "outputs": [],
   "source": [
    "from __future__ import print_function\n",
    "import time\n",
    "import numpy as np\n",
    "import pandas as pd\n",
    "from sklearn.datasets import fetch_mldata\n",
    "from sklearn.decomposition import PCA\n",
    "from sklearn.manifold import TSNE\n",
    "%matplotlib inline\n",
    "import matplotlib.pyplot as plt\n",
    "from mpl_toolkits.mplot3d import Axes3D\n",
    "import seaborn as sns\n",
    "\n",
    "import umap\n",
    "import matplotlib\n"
   ]
  },
  {
   "cell_type": "code",
   "execution_count": null,
   "metadata": {
    "colab": {
     "base_uri": "https://localhost:8080/",
     "height": 34
    },
    "colab_type": "code",
    "id": "D4fcDA-vQ47G",
    "outputId": "974d063a-ceba-4ace-b9ca-0ba892cb3379"
   },
   "outputs": [],
   "source": [
    "from google.colab import drive\n",
    "drive.mount('/data', force_remount=True)"
   ]
  },
  {
   "cell_type": "code",
   "execution_count": null,
   "metadata": {
    "colab": {},
    "colab_type": "code",
    "id": "DmWVE_jpRDRJ"
   },
   "outputs": [],
   "source": [
    "\n",
    "p = \"/data/My Drive/clean_exports/wSCORE/Milano_Cleaned_wSCORE.xlsx\"\n",
    "df =  pd.read_excel(p)"
   ]
  },
  {
   "cell_type": "code",
   "execution_count": null,
   "metadata": {
    "colab": {},
    "colab_type": "code",
    "id": "gu6WhooSRCPH"
   },
   "outputs": [],
   "source": [
    "l = ['int16', 'int32' , 'int64', 'float16', 'float32', 'float64']\n",
    "\n",
    "dfv = df.select_dtypes(include = l)"
   ]
  },
  {
   "cell_type": "markdown",
   "metadata": {
    "colab_type": "text",
    "id": "H9nSzeJ2dl8Z"
   },
   "source": [
    "### del LDL"
   ]
  },
  {
   "cell_type": "code",
   "execution_count": null,
   "metadata": {
    "colab": {},
    "colab_type": "code",
    "id": "Z-iD-cqNQ7YD"
   },
   "outputs": [],
   "source": [
    "dfv = dfv.drop(['age', 'SCORE'], axis=1)"
   ]
  },
  {
   "cell_type": "code",
   "execution_count": null,
   "metadata": {
    "colab": {
     "base_uri": "https://localhost:8080/",
     "height": 270
    },
    "colab_type": "code",
    "id": "xmIBcaPDR3-5",
    "outputId": "c4eccddb-257e-4577-a3c4-b8d664cecce0"
   },
   "outputs": [],
   "source": [
    "dfv.loc[:len(dfv):4].head()"
   ]
  },
  {
   "cell_type": "markdown",
   "metadata": {
    "colab_type": "text",
    "id": "FNQjDzNzhyu2"
   },
   "source": [
    "**New df**"
   ]
  },
  {
   "cell_type": "code",
   "execution_count": null,
   "metadata": {
    "colab": {},
    "colab_type": "code",
    "id": "27eauf_bScbA"
   },
   "outputs": [],
   "source": [
    "reducer = umap.UMAP()"
   ]
  },
  {
   "cell_type": "code",
   "execution_count": null,
   "metadata": {
    "colab": {
     "base_uri": "https://localhost:8080/",
     "height": 68
    },
    "colab_type": "code",
    "id": "RlBqXJlOiC3R",
    "outputId": "c03aa3be-3d58-4b7f-9683-d5939b76543f"
   },
   "outputs": [],
   "source": [
    "emb = reducer.fit_transform(dfv)\n",
    "emb.shape"
   ]
  },
  {
   "cell_type": "code",
   "execution_count": null,
   "metadata": {
    "colab": {},
    "colab_type": "code",
    "id": "1mh6SQBKiF2e"
   },
   "outputs": [],
   "source": [
    "label = df['age']\n",
    "label = list(label)"
   ]
  },
  {
   "cell_type": "code",
   "execution_count": null,
   "metadata": {
    "colab": {},
    "colab_type": "code",
    "id": "tpH8G24Cjb6N"
   },
   "outputs": [],
   "source": [
    "l = []\n",
    "for x in label:\n",
    "  if x < 40:\n",
    "    l.append(0)\n",
    "  elif x < 60:\n",
    "    l.append(1)\n",
    "  elif x < 80:\n",
    "    l.append(2)\n",
    "  else:\n",
    "    l.append(3)"
   ]
  },
  {
   "cell_type": "code",
   "execution_count": null,
   "metadata": {
    "colab": {},
    "colab_type": "code",
    "id": "aiXok26ajdrW"
   },
   "outputs": [],
   "source": [
    "colors = ['yellow','orange','blue','black']"
   ]
  },
  {
   "cell_type": "code",
   "execution_count": null,
   "metadata": {
    "colab": {
     "base_uri": "https://localhost:8080/",
     "height": 286
    },
    "colab_type": "code",
    "id": "kneWiZfBkyGB",
    "outputId": "be408f08-e453-4140-9c09-27e2173b2ada"
   },
   "outputs": [],
   "source": [
    "plt.scatter(emb[:, 0], emb[:, 1],c=l, cmap=matplotlib.colors.ListedColormap(colors), s = 1)"
   ]
  },
  {
   "cell_type": "markdown",
   "metadata": {
    "colab_type": "text",
    "id": "b-RfMPUPmBIR"
   },
   "source": [
    "**Vista 1**"
   ]
  },
  {
   "cell_type": "code",
   "execution_count": null,
   "metadata": {
    "colab": {},
    "colab_type": "code",
    "id": "1OmGrTF7mm6o"
   },
   "outputs": [],
   "source": [
    "l1 = l [::4]"
   ]
  },
  {
   "cell_type": "code",
   "execution_count": null,
   "metadata": {
    "colab": {
     "base_uri": "https://localhost:8080/",
     "height": 54
    },
    "colab_type": "code",
    "id": "voGr6r0EofZk",
    "outputId": "1e063d27-4d77-43f6-b3a0-6594ad3622e1"
   },
   "outputs": [],
   "source": [
    "print(l1)"
   ]
  },
  {
   "cell_type": "code",
   "execution_count": null,
   "metadata": {
    "colab": {
     "base_uri": "https://localhost:8080/",
     "height": 51
    },
    "colab_type": "code",
    "id": "FkuP3vwwlI4C",
    "outputId": "9290c0db-7e52-4d32-de4b-337fad996f44"
   },
   "outputs": [],
   "source": [
    "df1 = dfv.loc[:len(dfv):4]\n",
    "emb1 = reducer.fit_transform(df1)"
   ]
  },
  {
   "cell_type": "code",
   "execution_count": null,
   "metadata": {
    "colab": {
     "base_uri": "https://localhost:8080/",
     "height": 286
    },
    "colab_type": "code",
    "id": "akfs9D2bmEqH",
    "outputId": "a0725500-0986-4fa0-87b0-b7068eef2436"
   },
   "outputs": [],
   "source": [
    "plt.scatter(emb1[:, 0], emb1[:, 1], c = l1 , cmap=matplotlib.colors.ListedColormap(colors), s = 1)"
   ]
  },
  {
   "cell_type": "markdown",
   "metadata": {
    "colab_type": "text",
    "id": "xHrXrgbNnczQ"
   },
   "source": [
    "**Visita 2**"
   ]
  },
  {
   "cell_type": "code",
   "execution_count": null,
   "metadata": {
    "colab": {
     "base_uri": "https://localhost:8080/",
     "height": 51
    },
    "colab_type": "code",
    "id": "wfnwedmpmfPf",
    "outputId": "0b948143-f13f-4f2a-bff9-b5ca133029b5"
   },
   "outputs": [],
   "source": [
    "l2 = l [1::4]\n",
    "df2 = dfv.loc[1:len(dfv):4]\n",
    "emb2 = reducer.fit_transform(df2)"
   ]
  },
  {
   "cell_type": "code",
   "execution_count": null,
   "metadata": {
    "colab": {
     "base_uri": "https://localhost:8080/",
     "height": 54
    },
    "colab_type": "code",
    "id": "_F-i4dsxoc7U",
    "outputId": "4947dd13-0783-44b4-9f4d-eee48714fc79"
   },
   "outputs": [],
   "source": [
    "print(l2)"
   ]
  },
  {
   "cell_type": "code",
   "execution_count": null,
   "metadata": {
    "colab": {
     "base_uri": "https://localhost:8080/",
     "height": 286
    },
    "colab_type": "code",
    "id": "3FJ4oNx0n51A",
    "outputId": "8932f5f0-53c6-425b-8db3-8875a7dd9e19"
   },
   "outputs": [],
   "source": [
    "plt.scatter(emb2[:, 0], emb2[:, 1], c = l2 , cmap=matplotlib.colors.ListedColormap(colors), s = 1)"
   ]
  },
  {
   "cell_type": "markdown",
   "metadata": {
    "colab_type": "text",
    "id": "aYFc1QMQoxS0"
   },
   "source": [
    "**Visita 3**"
   ]
  },
  {
   "cell_type": "code",
   "execution_count": null,
   "metadata": {
    "colab": {
     "base_uri": "https://localhost:8080/",
     "height": 51
    },
    "colab_type": "code",
    "id": "fhZGdTDen-hi",
    "outputId": "afa5463a-f3aa-4b4d-f828-e07c0f6bf595"
   },
   "outputs": [],
   "source": [
    "l3 = l [2::4]\n",
    "df3 = dfv.loc[2:len(dfv):4]\n",
    "emb3 = reducer.fit_transform(df3)"
   ]
  },
  {
   "cell_type": "code",
   "execution_count": null,
   "metadata": {
    "colab": {
     "base_uri": "https://localhost:8080/",
     "height": 286
    },
    "colab_type": "code",
    "id": "UjGN2JLfo4Yz",
    "outputId": "f994e995-c55e-402f-d327-ce7efad28fbc"
   },
   "outputs": [],
   "source": [
    "plt.scatter(emb3[:, 0], emb3[:, 1], c = l3 , cmap=matplotlib.colors.ListedColormap(colors), s = 1)"
   ]
  },
  {
   "cell_type": "markdown",
   "metadata": {
    "colab_type": "text",
    "id": "Q51DqcTgpRTM"
   },
   "source": [
    "**Visita 4**"
   ]
  },
  {
   "cell_type": "code",
   "execution_count": null,
   "metadata": {
    "colab": {
     "base_uri": "https://localhost:8080/",
     "height": 51
    },
    "colab_type": "code",
    "id": "2-kyXql2o81k",
    "outputId": "1a42276f-7bca-43a7-90a8-2d8d7cf6b3c9"
   },
   "outputs": [],
   "source": [
    "l4 = l [3::4]\n",
    "df4 = dfv.loc[3:len(dfv):4]\n",
    "\n",
    "emb4 = reducer.fit_transform(df4)"
   ]
  },
  {
   "cell_type": "code",
   "execution_count": null,
   "metadata": {
    "colab": {
     "base_uri": "https://localhost:8080/",
     "height": 286
    },
    "colab_type": "code",
    "id": "mIhuKs0zpaQ7",
    "outputId": "3b0fcd85-66e2-49bf-da01-7e687778d3fb"
   },
   "outputs": [],
   "source": [
    "plt.scatter(emb4[:, 0], emb4[:, 1], c = l4 , cmap=matplotlib.colors.ListedColormap(colors), s = 1)"
   ]
  },
  {
   "cell_type": "code",
   "execution_count": null,
   "metadata": {
    "colab": {},
    "colab_type": "code",
    "id": "g_7rWgSwpkSS"
   },
   "outputs": [],
   "source": []
  }
 ],
 "metadata": {
  "colab": {
   "collapsed_sections": [],
   "name": "Age.ipynb",
   "provenance": [],
   "toc_visible": true,
   "version": "0.3.2"
  },
  "kernelspec": {
   "display_name": "Python 3",
   "language": "python",
   "name": "python3"
  },
  "language_info": {
   "codemirror_mode": {
    "name": "ipython",
    "version": 3
   },
   "file_extension": ".py",
   "mimetype": "text/x-python",
   "name": "python",
   "nbconvert_exporter": "python",
   "pygments_lexer": "ipython3",
   "version": "3.7.3"
  }
 },
 "nbformat": 4,
 "nbformat_minor": 1
}
