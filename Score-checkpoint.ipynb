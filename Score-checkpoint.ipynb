{
 "cells": [
  {
   "cell_type": "code",
   "execution_count": null,
   "metadata": {
    "colab": {
     "base_uri": "https://localhost:8080/",
     "height": 136
    },
    "colab_type": "code",
    "id": "DOJ8_iWBQzYJ",
    "outputId": "0bd4ade0-ab52-4052-fe43-d795d8424935"
   },
   "outputs": [],
   "source": [
    "!pip install umap-learn"
   ]
  },
  {
   "cell_type": "code",
   "execution_count": null,
   "metadata": {
    "colab": {},
    "colab_type": "code",
    "id": "bttV7281Q1V2"
   },
   "outputs": [],
   "source": [
    "from __future__ import print_function\n",
    "import time\n",
    "import numpy as np\n",
    "import pandas as pd\n",
    "from sklearn.datasets import fetch_mldata\n",
    "from sklearn.decomposition import PCA\n",
    "from sklearn.manifold import TSNE\n",
    "%matplotlib inline\n",
    "import matplotlib.pyplot as plt\n",
    "from mpl_toolkits.mplot3d import Axes3D\n",
    "import seaborn as sns\n",
    "\n",
    "import umap\n",
    "import matplotlib\n"
   ]
  },
  {
   "cell_type": "code",
   "execution_count": null,
   "metadata": {
    "colab": {
     "base_uri": "https://localhost:8080/",
     "height": 34
    },
    "colab_type": "code",
    "id": "D4fcDA-vQ47G",
    "outputId": "ae99ca1b-7d48-467f-c439-03eb58d9bd91"
   },
   "outputs": [],
   "source": [
    "from google.colab import drive\n",
    "drive.mount('/data', force_remount=True)"
   ]
  },
  {
   "cell_type": "code",
   "execution_count": null,
   "metadata": {
    "colab": {
     "base_uri": "https://localhost:8080/",
     "height": 71
    },
    "colab_type": "code",
    "id": "DmWVE_jpRDRJ",
    "outputId": "687af8ed-c66f-42f7-e6c3-990089d98a4d"
   },
   "outputs": [],
   "source": [
    "p = \"/data/My Drive/Data visualization/MILANO_DATA.csv\"\n",
    "df =  pd.read_csv(p)"
   ]
  },
  {
   "cell_type": "code",
   "execution_count": null,
   "metadata": {
    "colab": {},
    "colab_type": "code",
    "id": "gu6WhooSRCPH"
   },
   "outputs": [],
   "source": [
    "l = ['int16', 'int32' , 'int64', 'float16', 'float32', 'float64']\n",
    "\n",
    "dfv = df.select_dtypes(include = l)"
   ]
  },
  {
   "cell_type": "markdown",
   "metadata": {
    "colab_type": "text",
    "id": "H9nSzeJ2dl8Z"
   },
   "source": [
    "### del score"
   ]
  },
  {
   "cell_type": "code",
   "execution_count": null,
   "metadata": {
    "colab": {},
    "colab_type": "code",
    "id": "Z-iD-cqNQ7YD"
   },
   "outputs": [],
   "source": [
    "dfv = dfv.drop(['SCORE'], axis=1)"
   ]
  },
  {
   "cell_type": "code",
   "execution_count": null,
   "metadata": {
    "colab": {
     "base_uri": "https://localhost:8080/",
     "height": 304
    },
    "colab_type": "code",
    "id": "xmIBcaPDR3-5",
    "outputId": "7a1af4eb-b2ff-479c-fcce-636740eb9cd0"
   },
   "outputs": [],
   "source": [
    "dfv.loc[:len(dfv):4].head()"
   ]
  },
  {
   "cell_type": "markdown",
   "metadata": {
    "colab_type": "text",
    "id": "FNQjDzNzhyu2"
   },
   "source": [
    "**New df**"
   ]
  },
  {
   "cell_type": "code",
   "execution_count": null,
   "metadata": {
    "colab": {},
    "colab_type": "code",
    "id": "27eauf_bScbA"
   },
   "outputs": [],
   "source": [
    "reducer = umap.UMAP()"
   ]
  },
  {
   "cell_type": "code",
   "execution_count": null,
   "metadata": {
    "colab": {
     "base_uri": "https://localhost:8080/",
     "height": 68
    },
    "colab_type": "code",
    "id": "RlBqXJlOiC3R",
    "outputId": "23ef27a2-0237-479a-fd08-69477751cec3"
   },
   "outputs": [],
   "source": [
    "emb = reducer.fit_transform(dfv)\n",
    "emb.shape"
   ]
  },
  {
   "cell_type": "code",
   "execution_count": null,
   "metadata": {
    "colab": {},
    "colab_type": "code",
    "id": "1mh6SQBKiF2e"
   },
   "outputs": [],
   "source": [
    "label = df['SCORE']\n",
    "label = list(label)"
   ]
  },
  {
   "cell_type": "code",
   "execution_count": null,
   "metadata": {
    "colab": {
     "base_uri": "https://localhost:8080/",
     "height": 54
    },
    "colab_type": "code",
    "id": "tpH8G24Cjb6N",
    "outputId": "f466bb84-5b05-40f7-c45f-98e85f1ec6db"
   },
   "outputs": [],
   "source": [
    "l = []\n",
    "for x in label:\n",
    "  if x < 1:\n",
    "    l.append(0)\n",
    "  elif x < 2:\n",
    "    l.append(1)\n",
    "  elif x < 5:\n",
    "    l.append(2)\n",
    "  else:\n",
    "    l.append(3)\n",
    "\n",
    "print(l)"
   ]
  },
  {
   "cell_type": "code",
   "execution_count": null,
   "metadata": {
    "colab": {},
    "colab_type": "code",
    "id": "aiXok26ajdrW"
   },
   "outputs": [],
   "source": [
    "colors = ['yellow','blue','green','red']"
   ]
  },
  {
   "cell_type": "code",
   "execution_count": null,
   "metadata": {
    "colab": {
     "base_uri": "https://localhost:8080/",
     "height": 286
    },
    "colab_type": "code",
    "id": "kneWiZfBkyGB",
    "outputId": "4a728ce5-f2ea-4f51-ae77-4338511a03fb"
   },
   "outputs": [],
   "source": [
    "plt.scatter(emb[:, 0], emb[:, 1],c = l, cmap=matplotlib.colors.ListedColormap(colors), s = 1)"
   ]
  },
  {
   "cell_type": "markdown",
   "metadata": {
    "colab_type": "text",
    "id": "b-RfMPUPmBIR"
   },
   "source": [
    "**Vista 1**"
   ]
  },
  {
   "cell_type": "code",
   "execution_count": null,
   "metadata": {
    "colab": {},
    "colab_type": "code",
    "id": "1OmGrTF7mm6o"
   },
   "outputs": [],
   "source": [
    "l1 = l [::4]"
   ]
  },
  {
   "cell_type": "code",
   "execution_count": null,
   "metadata": {
    "colab": {
     "base_uri": "https://localhost:8080/",
     "height": 54
    },
    "colab_type": "code",
    "id": "voGr6r0EofZk",
    "outputId": "6a0f1d70-1c99-4774-dce5-9781718d3580"
   },
   "outputs": [],
   "source": [
    "print(l1)"
   ]
  },
  {
   "cell_type": "code",
   "execution_count": null,
   "metadata": {
    "colab": {},
    "colab_type": "code",
    "id": "FkuP3vwwlI4C"
   },
   "outputs": [],
   "source": [
    "df1 = dfv.loc[:len(dfv):4]\n",
    "emb1 = reducer.fit_transform(df1)"
   ]
  },
  {
   "cell_type": "code",
   "execution_count": null,
   "metadata": {
    "colab": {
     "base_uri": "https://localhost:8080/",
     "height": 286
    },
    "colab_type": "code",
    "id": "akfs9D2bmEqH",
    "outputId": "64e7be2a-d337-419c-88d2-8089ef3de183"
   },
   "outputs": [],
   "source": [
    "plt.scatter(emb1[:, 0], emb1[:, 1], c = l1 , cmap=matplotlib.colors.ListedColormap(colors), s = 1)"
   ]
  },
  {
   "cell_type": "markdown",
   "metadata": {
    "colab_type": "text",
    "id": "xHrXrgbNnczQ"
   },
   "source": [
    "**Visita 2**"
   ]
  },
  {
   "cell_type": "code",
   "execution_count": null,
   "metadata": {
    "colab": {},
    "colab_type": "code",
    "id": "wfnwedmpmfPf"
   },
   "outputs": [],
   "source": [
    "l2 = l [1::4]\n",
    "df2 = dfv.loc[1:len(dfv):4]\n",
    "emb2 = reducer.fit_transform(df2)"
   ]
  },
  {
   "cell_type": "code",
   "execution_count": null,
   "metadata": {
    "colab": {
     "base_uri": "https://localhost:8080/",
     "height": 54
    },
    "colab_type": "code",
    "id": "_F-i4dsxoc7U",
    "outputId": "cdc83624-e8e6-4515-affb-c37c08d92f76"
   },
   "outputs": [],
   "source": [
    "print(l2)"
   ]
  },
  {
   "cell_type": "code",
   "execution_count": null,
   "metadata": {
    "colab": {
     "base_uri": "https://localhost:8080/",
     "height": 286
    },
    "colab_type": "code",
    "id": "3FJ4oNx0n51A",
    "outputId": "2279dde9-b1ff-4352-890a-6273a5290062"
   },
   "outputs": [],
   "source": [
    "plt.scatter(emb2[:, 0], emb2[:, 1], c = l2 , cmap=matplotlib.colors.ListedColormap(colors), s = 1)"
   ]
  },
  {
   "cell_type": "markdown",
   "metadata": {
    "colab_type": "text",
    "id": "aYFc1QMQoxS0"
   },
   "source": [
    "**Visita 3**"
   ]
  },
  {
   "cell_type": "code",
   "execution_count": null,
   "metadata": {
    "colab": {},
    "colab_type": "code",
    "id": "fhZGdTDen-hi"
   },
   "outputs": [],
   "source": [
    "l3 = l [2::4]\n",
    "df3 = dfv.loc[2:len(dfv):4]\n",
    "emb3 = reducer.fit_transform(df3)"
   ]
  },
  {
   "cell_type": "code",
   "execution_count": null,
   "metadata": {
    "colab": {
     "base_uri": "https://localhost:8080/",
     "height": 286
    },
    "colab_type": "code",
    "id": "UjGN2JLfo4Yz",
    "outputId": "2e3a977b-5b1e-416a-881e-590388b95fa8"
   },
   "outputs": [],
   "source": [
    "plt.scatter(emb3[:, 0], emb3[:, 1], c = l3 , cmap=matplotlib.colors.ListedColormap(colors), s = 1)"
   ]
  },
  {
   "cell_type": "markdown",
   "metadata": {
    "colab_type": "text",
    "id": "Q51DqcTgpRTM"
   },
   "source": [
    "**Visita 4**"
   ]
  },
  {
   "cell_type": "code",
   "execution_count": null,
   "metadata": {
    "colab": {
     "base_uri": "https://localhost:8080/",
     "height": 51
    },
    "colab_type": "code",
    "id": "2-kyXql2o81k",
    "outputId": "fcda3888-288d-4f74-9923-ec7c0673a4f1"
   },
   "outputs": [],
   "source": [
    "l4 = l [3::4]\n",
    "df4 = dfv.loc[3:len(dfv):4]\n",
    "emb4 = reducer.fit_transform(df4)"
   ]
  },
  {
   "cell_type": "code",
   "execution_count": null,
   "metadata": {
    "colab": {
     "base_uri": "https://localhost:8080/",
     "height": 286
    },
    "colab_type": "code",
    "id": "mIhuKs0zpaQ7",
    "outputId": "39f00e73-ef70-448c-94ef-b8587067ef78"
   },
   "outputs": [],
   "source": [
    "plt.scatter(emb4[:, 0], emb4[:, 1], c = l4 , cmap=matplotlib.colors.ListedColormap(colors), s = 1)"
   ]
  },
  {
   "cell_type": "code",
   "execution_count": null,
   "metadata": {
    "colab": {},
    "colab_type": "code",
    "id": "g_7rWgSwpkSS"
   },
   "outputs": [],
   "source": []
  }
 ],
 "metadata": {
  "colab": {
   "collapsed_sections": [],
   "name": "Score.ipynb",
   "provenance": [],
   "toc_visible": true,
   "version": "0.3.2"
  },
  "kernelspec": {
   "display_name": "Python 3",
   "language": "python",
   "name": "python3"
  },
  "language_info": {
   "codemirror_mode": {
    "name": "ipython",
    "version": 3
   },
   "file_extension": ".py",
   "mimetype": "text/x-python",
   "name": "python",
   "nbconvert_exporter": "python",
   "pygments_lexer": "ipython3",
   "version": "3.7.3"
  }
 },
 "nbformat": 4,
 "nbformat_minor": 1
}
