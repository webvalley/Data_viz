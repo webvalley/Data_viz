{
 "cells": [
  {
   "cell_type": "markdown",
   "metadata": {},
   "source": [
    "Plotting clinical data"
   ]
  },
  {
   "cell_type": "markdown",
   "metadata": {},
   "source": [
    "## Disclaimer\n",
    "\n",
    "Make sure the following packages are installed\n",
    "\n",
    "`conda install -c bokeh selenium`\n",
    "\n",
    "`conda install -c conda-forge phantomjs `"
   ]
  },
  {
   "cell_type": "code",
   "execution_count": null,
   "metadata": {
    "scrolled": true
   },
   "outputs": [],
   "source": [
    "from bokeh.plotting import figure, output_notebook, show\n",
    "output_notebook()\n",
    "from bokeh.models import ColumnDataSource\n",
    "from bokeh.io import export_png\n",
    "\n",
    "import pandas as pd\n",
    "import os\n",
    "from scipy import stats\n"
   ]
  },
  {
   "cell_type": "code",
   "execution_count": null,
   "metadata": {},
   "outputs": [],
   "source": [
    "export_dir = \"/tmp\""
   ]
  },
  {
   "cell_type": "markdown",
   "metadata": {},
   "source": [
    "Correlation between age and systolic pressure"
   ]
  },
  {
   "cell_type": "code",
   "execution_count": null,
   "metadata": {
    "scrolled": true
   },
   "outputs": [],
   "source": [
    "pressure = pd.DataFrame.from_csv ('/home/student/Downloads/PLIC_dataset parametri clinici_V1_V2_V3_V4_1445.csv',0,'\\t')"
   ]
  },
  {
   "cell_type": "code",
   "execution_count": null,
   "metadata": {
    "scrolled": false
   },
   "outputs": [],
   "source": [
    "source = ColumnDataSource(pressure)\n",
    "\n",
    "p = figure(plot_width=400, plot_height=400, title=\"Visit 1 - Correlation between age and systolic pressure\", x_axis_label='age', y_axis_label='pressure')\n",
    "\n",
    "# add a circle renderer with a size, color, and alpha\n",
    "p.circle('età_1', 'pas_1', size=1, color=\"navy\", alpha=0.5, source=source)\n",
    "\n",
    "# show the results\n",
    "show(p)"
   ]
  },
  {
   "cell_type": "code",
   "execution_count": null,
   "metadata": {},
   "outputs": [],
   "source": [
    "export_png(p, filename=os.path.join(export_dir, \"Correlation_age_systolic_pression_V1.png\"))"
   ]
  },
  {
   "cell_type": "code",
   "execution_count": null,
   "metadata": {},
   "outputs": [],
   "source": [
    "stats.pearsonr(pressure['età_1'], pressure['pas_1'])"
   ]
  },
  {
   "cell_type": "markdown",
   "metadata": {},
   "source": [
    "Plot age-LDL"
   ]
  },
  {
   "cell_type": "code",
   "execution_count": null,
   "metadata": {
    "scrolled": true
   },
   "outputs": [],
   "source": [
    "ldl = pd.DataFrame.from_csv('/home/student/Downloads/PLIC_dataset parametri clinici_V1_V2_V3_V4_1445.csv',0,'\\t')"
   ]
  },
  {
   "cell_type": "code",
   "execution_count": null,
   "metadata": {},
   "outputs": [],
   "source": [
    "source = ColumnDataSource(ldl)\n",
    "\n",
    "p = figure(plot_width=400, plot_height=400, title=\"Visit 1 - Correlation between age and LDL\", x_axis_label='age', y_axis_label='LDL')\n",
    "\n",
    "# add a circle renderer with a size, color, and alpha\n",
    "p.circle('età_1', 'LDL_calc_1', size=1, color=\"navy\", alpha=0.5, source=source)\n",
    "\n",
    "# show the results\n",
    "show(p)"
   ]
  },
  {
   "cell_type": "code",
   "execution_count": null,
   "metadata": {},
   "outputs": [],
   "source": [
    "export_png(p, filename=os.path.join(export_dir, \"Correlation_age_LDL_V1.png\"))"
   ]
  },
  {
   "cell_type": "code",
   "execution_count": null,
   "metadata": {},
   "outputs": [],
   "source": [
    "stats.pearsonr(pressure['età_1'], pressure['LDL_calc_1'])"
   ]
  },
  {
   "cell_type": "markdown",
   "metadata": {},
   "source": [
    "Correlation between LDL and pressure"
   ]
  },
  {
   "cell_type": "code",
   "execution_count": null,
   "metadata": {
    "scrolled": true
   },
   "outputs": [],
   "source": [
    "pressure = pd.DataFrame.from_csv ('/home/student/Downloads/PLIC_dataset parametri clinici_V1_V2_V3_V4_1445.csv',0,'\\t')"
   ]
  },
  {
   "cell_type": "code",
   "execution_count": null,
   "metadata": {
    "scrolled": false
   },
   "outputs": [],
   "source": [
    "source = ColumnDataSource(pressure)\n",
    "\n",
    "p = figure(plot_width=400, plot_height=400, title=\"Visit 1 - Correlation between LDL and pressure\", x_axis_label='LDL', y_axis_label='systolic pressure')\n",
    "\n",
    "# add a circle renderer with a size, color, and alpha\n",
    "p.circle('LDL_calc_1','pas_1', size=2, color=\"navy\", alpha=0.5, source=source)\n",
    "\n",
    "# show the results\n",
    "show(p)"
   ]
  },
  {
   "cell_type": "code",
   "execution_count": null,
   "metadata": {},
   "outputs": [],
   "source": [
    "export_png(p, filename=os.path.join(export_dir, \"Correlation_LDL_systolic_pressure_V1.png\"))"
   ]
  }
 ],
 "metadata": {
  "kernelspec": {
   "display_name": "Python 3",
   "language": "python",
   "name": "python3"
  },
  "language_info": {
   "codemirror_mode": {
    "name": "ipython",
    "version": 3
   },
   "file_extension": ".py",
   "mimetype": "text/x-python",
   "name": "python",
   "nbconvert_exporter": "python",
   "pygments_lexer": "ipython3",
   "version": "3.7.3"
  }
 },
 "nbformat": 4,
 "nbformat_minor": 2
}
